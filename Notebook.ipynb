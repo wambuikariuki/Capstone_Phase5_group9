{
  "cells": [
    {
      "cell_type": "code",
      "execution_count": 34,
      "id": "3af69fd9-5a56-4bfb-8cc7-f641fb6e7aa3",
      "metadata": {
        "id": "3af69fd9-5a56-4bfb-8cc7-f641fb6e7aa3"
      },
      "outputs": [],
      "source": [
        "#Import necessary libraries\n",
        "import pandas as pd\n",
        "import numpy as np\n",
        "import matplotlib.pyplot as plt\n",
        "import seaborn as sns\n",
        "from sklearn.model_selection import train_test_split\n",
        "from sklearn.preprocessing import StandardScaler\n",
        "from sklearn.model_selection import train_test_split\n",
        "from sklearn.preprocessing import StandardScaler, LabelEncoder\n",
        "\n",
        "from sklearn.linear_model import LogisticRegression\n",
        "from sklearn.ensemble import RandomForestClassifier\n",
        "from xgboost import XGBClassifier\n",
        "\n",
        "import warnings\n",
        "warnings.filterwarnings('ignore')"
      ]
    },
    {
      "cell_type": "code",
      "execution_count": 7,
      "id": "f23cef2c-57f7-43cf-ab84-58af9ec57f11",
      "metadata": {
        "colab": {
          "base_uri": "https://localhost:8080/",
          "height": 394
        },
        "id": "f23cef2c-57f7-43cf-ab84-58af9ec57f11",
        "outputId": "89cbd2eb-c8c1-462d-cb89-7c8f3beab45c"
      },
      "outputs": [
        {
          "output_type": "execute_result",
          "data": {
            "text/plain": [
              "   Unnamed: 0  age gender security_no region_category  membership_category  \\\n",
              "0           0   18      F     XW0DQ7H         Village  Platinum Membership   \n",
              "1           1   32      F     5K0N3X1            City   Premium Membership   \n",
              "2           2   44      F     1F2TCL3            Town        No Membership   \n",
              "3           3   37      M     VJGJ33N            City        No Membership   \n",
              "4           4   31      F     SVZXCWB            City        No Membership   \n",
              "\n",
              "  joining_date joined_through_referral referral_id     preferred_offer_types  \\\n",
              "0   17-08-2017                      No    xxxxxxxx     Gift Vouchers/Coupons   \n",
              "1   28-08-2017                       ?    CID21329     Gift Vouchers/Coupons   \n",
              "2   11-11-2016                     Yes    CID12313     Gift Vouchers/Coupons   \n",
              "3   29-10-2016                     Yes     CID3793     Gift Vouchers/Coupons   \n",
              "4   12-09-2017                      No    xxxxxxxx  Credit/Debit Card Offers   \n",
              "\n",
              "   ... avg_time_spent avg_transaction_value avg_frequency_login_days  \\\n",
              "0  ...         300.63              53005.25                       17   \n",
              "1  ...         306.34              12838.38                       10   \n",
              "2  ...         516.16              21027.00                       22   \n",
              "3  ...          53.27              25239.56                        6   \n",
              "4  ...         113.13              24483.66                       16   \n",
              "\n",
              "   points_in_wallet  used_special_discount  offer_application_preference  \\\n",
              "0            781.75                    Yes                           Yes   \n",
              "1               NaN                    Yes                            No   \n",
              "2            500.69                     No                           Yes   \n",
              "3            567.66                     No                           Yes   \n",
              "4            663.06                     No                           Yes   \n",
              "\n",
              "  past_complaint     complaint_status                  feedback  \\\n",
              "0             No       Not Applicable  Products always in Stock   \n",
              "1            Yes               Solved     Quality Customer Care   \n",
              "2            Yes  Solved in Follow-up              Poor Website   \n",
              "3            Yes             Unsolved              Poor Website   \n",
              "4            Yes               Solved              Poor Website   \n",
              "\n",
              "  churn_risk_score  \n",
              "0                0  \n",
              "1                0  \n",
              "2                1  \n",
              "3                1  \n",
              "4                1  \n",
              "\n",
              "[5 rows x 24 columns]"
            ],
            "text/html": [
              "\n",
              "  <div id=\"df-50ad7e90-b935-4464-a1ae-f4401cefe6c9\" class=\"colab-df-container\">\n",
              "    <div>\n",
              "<style scoped>\n",
              "    .dataframe tbody tr th:only-of-type {\n",
              "        vertical-align: middle;\n",
              "    }\n",
              "\n",
              "    .dataframe tbody tr th {\n",
              "        vertical-align: top;\n",
              "    }\n",
              "\n",
              "    .dataframe thead th {\n",
              "        text-align: right;\n",
              "    }\n",
              "</style>\n",
              "<table border=\"1\" class=\"dataframe\">\n",
              "  <thead>\n",
              "    <tr style=\"text-align: right;\">\n",
              "      <th></th>\n",
              "      <th>Unnamed: 0</th>\n",
              "      <th>age</th>\n",
              "      <th>gender</th>\n",
              "      <th>security_no</th>\n",
              "      <th>region_category</th>\n",
              "      <th>membership_category</th>\n",
              "      <th>joining_date</th>\n",
              "      <th>joined_through_referral</th>\n",
              "      <th>referral_id</th>\n",
              "      <th>preferred_offer_types</th>\n",
              "      <th>...</th>\n",
              "      <th>avg_time_spent</th>\n",
              "      <th>avg_transaction_value</th>\n",
              "      <th>avg_frequency_login_days</th>\n",
              "      <th>points_in_wallet</th>\n",
              "      <th>used_special_discount</th>\n",
              "      <th>offer_application_preference</th>\n",
              "      <th>past_complaint</th>\n",
              "      <th>complaint_status</th>\n",
              "      <th>feedback</th>\n",
              "      <th>churn_risk_score</th>\n",
              "    </tr>\n",
              "  </thead>\n",
              "  <tbody>\n",
              "    <tr>\n",
              "      <th>0</th>\n",
              "      <td>0</td>\n",
              "      <td>18</td>\n",
              "      <td>F</td>\n",
              "      <td>XW0DQ7H</td>\n",
              "      <td>Village</td>\n",
              "      <td>Platinum Membership</td>\n",
              "      <td>17-08-2017</td>\n",
              "      <td>No</td>\n",
              "      <td>xxxxxxxx</td>\n",
              "      <td>Gift Vouchers/Coupons</td>\n",
              "      <td>...</td>\n",
              "      <td>300.63</td>\n",
              "      <td>53005.25</td>\n",
              "      <td>17</td>\n",
              "      <td>781.75</td>\n",
              "      <td>Yes</td>\n",
              "      <td>Yes</td>\n",
              "      <td>No</td>\n",
              "      <td>Not Applicable</td>\n",
              "      <td>Products always in Stock</td>\n",
              "      <td>0</td>\n",
              "    </tr>\n",
              "    <tr>\n",
              "      <th>1</th>\n",
              "      <td>1</td>\n",
              "      <td>32</td>\n",
              "      <td>F</td>\n",
              "      <td>5K0N3X1</td>\n",
              "      <td>City</td>\n",
              "      <td>Premium Membership</td>\n",
              "      <td>28-08-2017</td>\n",
              "      <td>?</td>\n",
              "      <td>CID21329</td>\n",
              "      <td>Gift Vouchers/Coupons</td>\n",
              "      <td>...</td>\n",
              "      <td>306.34</td>\n",
              "      <td>12838.38</td>\n",
              "      <td>10</td>\n",
              "      <td>NaN</td>\n",
              "      <td>Yes</td>\n",
              "      <td>No</td>\n",
              "      <td>Yes</td>\n",
              "      <td>Solved</td>\n",
              "      <td>Quality Customer Care</td>\n",
              "      <td>0</td>\n",
              "    </tr>\n",
              "    <tr>\n",
              "      <th>2</th>\n",
              "      <td>2</td>\n",
              "      <td>44</td>\n",
              "      <td>F</td>\n",
              "      <td>1F2TCL3</td>\n",
              "      <td>Town</td>\n",
              "      <td>No Membership</td>\n",
              "      <td>11-11-2016</td>\n",
              "      <td>Yes</td>\n",
              "      <td>CID12313</td>\n",
              "      <td>Gift Vouchers/Coupons</td>\n",
              "      <td>...</td>\n",
              "      <td>516.16</td>\n",
              "      <td>21027.00</td>\n",
              "      <td>22</td>\n",
              "      <td>500.69</td>\n",
              "      <td>No</td>\n",
              "      <td>Yes</td>\n",
              "      <td>Yes</td>\n",
              "      <td>Solved in Follow-up</td>\n",
              "      <td>Poor Website</td>\n",
              "      <td>1</td>\n",
              "    </tr>\n",
              "    <tr>\n",
              "      <th>3</th>\n",
              "      <td>3</td>\n",
              "      <td>37</td>\n",
              "      <td>M</td>\n",
              "      <td>VJGJ33N</td>\n",
              "      <td>City</td>\n",
              "      <td>No Membership</td>\n",
              "      <td>29-10-2016</td>\n",
              "      <td>Yes</td>\n",
              "      <td>CID3793</td>\n",
              "      <td>Gift Vouchers/Coupons</td>\n",
              "      <td>...</td>\n",
              "      <td>53.27</td>\n",
              "      <td>25239.56</td>\n",
              "      <td>6</td>\n",
              "      <td>567.66</td>\n",
              "      <td>No</td>\n",
              "      <td>Yes</td>\n",
              "      <td>Yes</td>\n",
              "      <td>Unsolved</td>\n",
              "      <td>Poor Website</td>\n",
              "      <td>1</td>\n",
              "    </tr>\n",
              "    <tr>\n",
              "      <th>4</th>\n",
              "      <td>4</td>\n",
              "      <td>31</td>\n",
              "      <td>F</td>\n",
              "      <td>SVZXCWB</td>\n",
              "      <td>City</td>\n",
              "      <td>No Membership</td>\n",
              "      <td>12-09-2017</td>\n",
              "      <td>No</td>\n",
              "      <td>xxxxxxxx</td>\n",
              "      <td>Credit/Debit Card Offers</td>\n",
              "      <td>...</td>\n",
              "      <td>113.13</td>\n",
              "      <td>24483.66</td>\n",
              "      <td>16</td>\n",
              "      <td>663.06</td>\n",
              "      <td>No</td>\n",
              "      <td>Yes</td>\n",
              "      <td>Yes</td>\n",
              "      <td>Solved</td>\n",
              "      <td>Poor Website</td>\n",
              "      <td>1</td>\n",
              "    </tr>\n",
              "  </tbody>\n",
              "</table>\n",
              "<p>5 rows × 24 columns</p>\n",
              "</div>\n",
              "    <div class=\"colab-df-buttons\">\n",
              "\n",
              "  <div class=\"colab-df-container\">\n",
              "    <button class=\"colab-df-convert\" onclick=\"convertToInteractive('df-50ad7e90-b935-4464-a1ae-f4401cefe6c9')\"\n",
              "            title=\"Convert this dataframe to an interactive table.\"\n",
              "            style=\"display:none;\">\n",
              "\n",
              "  <svg xmlns=\"http://www.w3.org/2000/svg\" height=\"24px\" viewBox=\"0 -960 960 960\">\n",
              "    <path d=\"M120-120v-720h720v720H120Zm60-500h600v-160H180v160Zm220 220h160v-160H400v160Zm0 220h160v-160H400v160ZM180-400h160v-160H180v160Zm440 0h160v-160H620v160ZM180-180h160v-160H180v160Zm440 0h160v-160H620v160Z\"/>\n",
              "  </svg>\n",
              "    </button>\n",
              "\n",
              "  <style>\n",
              "    .colab-df-container {\n",
              "      display:flex;\n",
              "      gap: 12px;\n",
              "    }\n",
              "\n",
              "    .colab-df-convert {\n",
              "      background-color: #E8F0FE;\n",
              "      border: none;\n",
              "      border-radius: 50%;\n",
              "      cursor: pointer;\n",
              "      display: none;\n",
              "      fill: #1967D2;\n",
              "      height: 32px;\n",
              "      padding: 0 0 0 0;\n",
              "      width: 32px;\n",
              "    }\n",
              "\n",
              "    .colab-df-convert:hover {\n",
              "      background-color: #E2EBFA;\n",
              "      box-shadow: 0px 1px 2px rgba(60, 64, 67, 0.3), 0px 1px 3px 1px rgba(60, 64, 67, 0.15);\n",
              "      fill: #174EA6;\n",
              "    }\n",
              "\n",
              "    .colab-df-buttons div {\n",
              "      margin-bottom: 4px;\n",
              "    }\n",
              "\n",
              "    [theme=dark] .colab-df-convert {\n",
              "      background-color: #3B4455;\n",
              "      fill: #D2E3FC;\n",
              "    }\n",
              "\n",
              "    [theme=dark] .colab-df-convert:hover {\n",
              "      background-color: #434B5C;\n",
              "      box-shadow: 0px 1px 3px 1px rgba(0, 0, 0, 0.15);\n",
              "      filter: drop-shadow(0px 1px 2px rgba(0, 0, 0, 0.3));\n",
              "      fill: #FFFFFF;\n",
              "    }\n",
              "  </style>\n",
              "\n",
              "    <script>\n",
              "      const buttonEl =\n",
              "        document.querySelector('#df-50ad7e90-b935-4464-a1ae-f4401cefe6c9 button.colab-df-convert');\n",
              "      buttonEl.style.display =\n",
              "        google.colab.kernel.accessAllowed ? 'block' : 'none';\n",
              "\n",
              "      async function convertToInteractive(key) {\n",
              "        const element = document.querySelector('#df-50ad7e90-b935-4464-a1ae-f4401cefe6c9');\n",
              "        const dataTable =\n",
              "          await google.colab.kernel.invokeFunction('convertToInteractive',\n",
              "                                                    [key], {});\n",
              "        if (!dataTable) return;\n",
              "\n",
              "        const docLinkHtml = 'Like what you see? Visit the ' +\n",
              "          '<a target=\"_blank\" href=https://colab.research.google.com/notebooks/data_table.ipynb>data table notebook</a>'\n",
              "          + ' to learn more about interactive tables.';\n",
              "        element.innerHTML = '';\n",
              "        dataTable['output_type'] = 'display_data';\n",
              "        await google.colab.output.renderOutput(dataTable, element);\n",
              "        const docLink = document.createElement('div');\n",
              "        docLink.innerHTML = docLinkHtml;\n",
              "        element.appendChild(docLink);\n",
              "      }\n",
              "    </script>\n",
              "  </div>\n",
              "\n",
              "\n",
              "    <div id=\"df-60f14140-5407-443d-8e44-fdf5e46292ee\">\n",
              "      <button class=\"colab-df-quickchart\" onclick=\"quickchart('df-60f14140-5407-443d-8e44-fdf5e46292ee')\"\n",
              "                title=\"Suggest charts\"\n",
              "                style=\"display:none;\">\n",
              "\n",
              "<svg xmlns=\"http://www.w3.org/2000/svg\" height=\"24px\"viewBox=\"0 0 24 24\"\n",
              "     width=\"24px\">\n",
              "    <g>\n",
              "        <path d=\"M19 3H5c-1.1 0-2 .9-2 2v14c0 1.1.9 2 2 2h14c1.1 0 2-.9 2-2V5c0-1.1-.9-2-2-2zM9 17H7v-7h2v7zm4 0h-2V7h2v10zm4 0h-2v-4h2v4z\"/>\n",
              "    </g>\n",
              "</svg>\n",
              "      </button>\n",
              "\n",
              "<style>\n",
              "  .colab-df-quickchart {\n",
              "      --bg-color: #E8F0FE;\n",
              "      --fill-color: #1967D2;\n",
              "      --hover-bg-color: #E2EBFA;\n",
              "      --hover-fill-color: #174EA6;\n",
              "      --disabled-fill-color: #AAA;\n",
              "      --disabled-bg-color: #DDD;\n",
              "  }\n",
              "\n",
              "  [theme=dark] .colab-df-quickchart {\n",
              "      --bg-color: #3B4455;\n",
              "      --fill-color: #D2E3FC;\n",
              "      --hover-bg-color: #434B5C;\n",
              "      --hover-fill-color: #FFFFFF;\n",
              "      --disabled-bg-color: #3B4455;\n",
              "      --disabled-fill-color: #666;\n",
              "  }\n",
              "\n",
              "  .colab-df-quickchart {\n",
              "    background-color: var(--bg-color);\n",
              "    border: none;\n",
              "    border-radius: 50%;\n",
              "    cursor: pointer;\n",
              "    display: none;\n",
              "    fill: var(--fill-color);\n",
              "    height: 32px;\n",
              "    padding: 0;\n",
              "    width: 32px;\n",
              "  }\n",
              "\n",
              "  .colab-df-quickchart:hover {\n",
              "    background-color: var(--hover-bg-color);\n",
              "    box-shadow: 0 1px 2px rgba(60, 64, 67, 0.3), 0 1px 3px 1px rgba(60, 64, 67, 0.15);\n",
              "    fill: var(--button-hover-fill-color);\n",
              "  }\n",
              "\n",
              "  .colab-df-quickchart-complete:disabled,\n",
              "  .colab-df-quickchart-complete:disabled:hover {\n",
              "    background-color: var(--disabled-bg-color);\n",
              "    fill: var(--disabled-fill-color);\n",
              "    box-shadow: none;\n",
              "  }\n",
              "\n",
              "  .colab-df-spinner {\n",
              "    border: 2px solid var(--fill-color);\n",
              "    border-color: transparent;\n",
              "    border-bottom-color: var(--fill-color);\n",
              "    animation:\n",
              "      spin 1s steps(1) infinite;\n",
              "  }\n",
              "\n",
              "  @keyframes spin {\n",
              "    0% {\n",
              "      border-color: transparent;\n",
              "      border-bottom-color: var(--fill-color);\n",
              "      border-left-color: var(--fill-color);\n",
              "    }\n",
              "    20% {\n",
              "      border-color: transparent;\n",
              "      border-left-color: var(--fill-color);\n",
              "      border-top-color: var(--fill-color);\n",
              "    }\n",
              "    30% {\n",
              "      border-color: transparent;\n",
              "      border-left-color: var(--fill-color);\n",
              "      border-top-color: var(--fill-color);\n",
              "      border-right-color: var(--fill-color);\n",
              "    }\n",
              "    40% {\n",
              "      border-color: transparent;\n",
              "      border-right-color: var(--fill-color);\n",
              "      border-top-color: var(--fill-color);\n",
              "    }\n",
              "    60% {\n",
              "      border-color: transparent;\n",
              "      border-right-color: var(--fill-color);\n",
              "    }\n",
              "    80% {\n",
              "      border-color: transparent;\n",
              "      border-right-color: var(--fill-color);\n",
              "      border-bottom-color: var(--fill-color);\n",
              "    }\n",
              "    90% {\n",
              "      border-color: transparent;\n",
              "      border-bottom-color: var(--fill-color);\n",
              "    }\n",
              "  }\n",
              "</style>\n",
              "\n",
              "      <script>\n",
              "        async function quickchart(key) {\n",
              "          const quickchartButtonEl =\n",
              "            document.querySelector('#' + key + ' button');\n",
              "          quickchartButtonEl.disabled = true;  // To prevent multiple clicks.\n",
              "          quickchartButtonEl.classList.add('colab-df-spinner');\n",
              "          try {\n",
              "            const charts = await google.colab.kernel.invokeFunction(\n",
              "                'suggestCharts', [key], {});\n",
              "          } catch (error) {\n",
              "            console.error('Error during call to suggestCharts:', error);\n",
              "          }\n",
              "          quickchartButtonEl.classList.remove('colab-df-spinner');\n",
              "          quickchartButtonEl.classList.add('colab-df-quickchart-complete');\n",
              "        }\n",
              "        (() => {\n",
              "          let quickchartButtonEl =\n",
              "            document.querySelector('#df-60f14140-5407-443d-8e44-fdf5e46292ee button');\n",
              "          quickchartButtonEl.style.display =\n",
              "            google.colab.kernel.accessAllowed ? 'block' : 'none';\n",
              "        })();\n",
              "      </script>\n",
              "    </div>\n",
              "\n",
              "    </div>\n",
              "  </div>\n"
            ],
            "application/vnd.google.colaboratory.intrinsic+json": {
              "type": "dataframe",
              "variable_name": "df"
            }
          },
          "metadata": {},
          "execution_count": 7
        }
      ],
      "source": [
        "# Load dataset from absolute path\n",
        "df = pd.read_csv(\"/content/my_file.csv\")\n",
        "#load the first 5 columns\n",
        "df.head()"
      ]
    },
    {
      "cell_type": "code",
      "execution_count": 8,
      "id": "86754194-a187-4b13-95ca-45e10e709923",
      "metadata": {
        "colab": {
          "base_uri": "https://localhost:8080/"
        },
        "id": "86754194-a187-4b13-95ca-45e10e709923",
        "outputId": "316bab6b-8ad7-4a0e-ace2-3d095b5e243a"
      },
      "outputs": [
        {
          "output_type": "execute_result",
          "data": {
            "text/plain": [
              "(36992, 24)"
            ]
          },
          "metadata": {},
          "execution_count": 8
        }
      ],
      "source": [
        "#Getting the shape of dataframe\n",
        "df.shape"
      ]
    },
    {
      "cell_type": "code",
      "execution_count": 9,
      "id": "623b4b8e-eb20-412a-884d-3cc519ce93ac",
      "metadata": {
        "colab": {
          "base_uri": "https://localhost:8080/"
        },
        "id": "623b4b8e-eb20-412a-884d-3cc519ce93ac",
        "outputId": "9fb40b08-658b-4cd0-c562-21db1b2051d2"
      },
      "outputs": [
        {
          "output_type": "execute_result",
          "data": {
            "text/plain": [
              "Index(['Unnamed: 0', 'age', 'gender', 'security_no', 'region_category',\n",
              "       'membership_category', 'joining_date', 'joined_through_referral',\n",
              "       'referral_id', 'preferred_offer_types', 'medium_of_operation',\n",
              "       'internet_option', 'last_visit_time', 'days_since_last_login',\n",
              "       'avg_time_spent', 'avg_transaction_value', 'avg_frequency_login_days',\n",
              "       'points_in_wallet', 'used_special_discount',\n",
              "       'offer_application_preference', 'past_complaint', 'complaint_status',\n",
              "       'feedback', 'churn_risk_score'],\n",
              "      dtype='object')"
            ]
          },
          "metadata": {},
          "execution_count": 9
        }
      ],
      "source": [
        "# Loading all columns that exist in our dataframe\n",
        "df.columns"
      ]
    },
    {
      "cell_type": "code",
      "execution_count": 10,
      "id": "6df76862-4953-4509-8732-5111fb89f084",
      "metadata": {
        "colab": {
          "base_uri": "https://localhost:8080/"
        },
        "id": "6df76862-4953-4509-8732-5111fb89f084",
        "outputId": "23c64855-0eb9-4c88-8f44-8232cd2ae91e"
      },
      "outputs": [
        {
          "output_type": "stream",
          "name": "stdout",
          "text": [
            "<class 'pandas.core.frame.DataFrame'>\n",
            "RangeIndex: 36992 entries, 0 to 36991\n",
            "Data columns (total 24 columns):\n",
            " #   Column                        Non-Null Count  Dtype  \n",
            "---  ------                        --------------  -----  \n",
            " 0   Unnamed: 0                    36992 non-null  int64  \n",
            " 1   age                           36992 non-null  int64  \n",
            " 2   gender                        36992 non-null  object \n",
            " 3   security_no                   36992 non-null  object \n",
            " 4   region_category               31564 non-null  object \n",
            " 5   membership_category           36992 non-null  object \n",
            " 6   joining_date                  36992 non-null  object \n",
            " 7   joined_through_referral       36992 non-null  object \n",
            " 8   referral_id                   36992 non-null  object \n",
            " 9   preferred_offer_types         36704 non-null  object \n",
            " 10  medium_of_operation           36992 non-null  object \n",
            " 11  internet_option               36992 non-null  object \n",
            " 12  last_visit_time               36992 non-null  object \n",
            " 13  days_since_last_login         36992 non-null  int64  \n",
            " 14  avg_time_spent                36992 non-null  float64\n",
            " 15  avg_transaction_value         36992 non-null  float64\n",
            " 16  avg_frequency_login_days      36992 non-null  object \n",
            " 17  points_in_wallet              33549 non-null  float64\n",
            " 18  used_special_discount         36992 non-null  object \n",
            " 19  offer_application_preference  36992 non-null  object \n",
            " 20  past_complaint                36992 non-null  object \n",
            " 21  complaint_status              36992 non-null  object \n",
            " 22  feedback                      36992 non-null  object \n",
            " 23  churn_risk_score              36992 non-null  int64  \n",
            "dtypes: float64(3), int64(4), object(17)\n",
            "memory usage: 6.8+ MB\n"
          ]
        }
      ],
      "source": [
        "#Data types in our dataframe\n",
        "df.info()"
      ]
    },
    {
      "cell_type": "code",
      "execution_count": 11,
      "id": "fddd1729-8571-4632-a610-c4d92c2039b5",
      "metadata": {
        "colab": {
          "base_uri": "https://localhost:8080/",
          "height": 300
        },
        "id": "fddd1729-8571-4632-a610-c4d92c2039b5",
        "outputId": "d3a6b019-55ec-4a65-d976-56071a8f6f68"
      },
      "outputs": [
        {
          "output_type": "execute_result",
          "data": {
            "text/plain": [
              "         Unnamed: 0           age  days_since_last_login  avg_time_spent  \\\n",
              "count  36992.000000  36992.000000           36992.000000    36992.000000   \n",
              "mean   18495.500000     37.118161             -41.915576      243.472334   \n",
              "std    10678.814916     15.867412             228.819900      398.289149   \n",
              "min        0.000000     10.000000            -999.000000    -2814.109110   \n",
              "25%     9247.750000     23.000000               8.000000       60.102500   \n",
              "50%    18495.500000     37.000000              12.000000      161.765000   \n",
              "75%    27743.250000     51.000000              16.000000      356.515000   \n",
              "max    36991.000000     64.000000              26.000000     3235.578521   \n",
              "\n",
              "       avg_transaction_value  points_in_wallet  churn_risk_score  \n",
              "count           36992.000000      33549.000000      36992.000000  \n",
              "mean            29271.194003        686.882199          0.540982  \n",
              "std             19444.806226        194.063624          0.498324  \n",
              "min               800.460000       -760.661236          0.000000  \n",
              "25%             14177.540000        616.150000          0.000000  \n",
              "50%             27554.485000        697.620000          1.000000  \n",
              "75%             40855.110000        763.950000          1.000000  \n",
              "max             99914.050000       2069.069761          1.000000  "
            ],
            "text/html": [
              "\n",
              "  <div id=\"df-1e8d29f7-c82d-4e8d-bf92-386ab52c734c\" class=\"colab-df-container\">\n",
              "    <div>\n",
              "<style scoped>\n",
              "    .dataframe tbody tr th:only-of-type {\n",
              "        vertical-align: middle;\n",
              "    }\n",
              "\n",
              "    .dataframe tbody tr th {\n",
              "        vertical-align: top;\n",
              "    }\n",
              "\n",
              "    .dataframe thead th {\n",
              "        text-align: right;\n",
              "    }\n",
              "</style>\n",
              "<table border=\"1\" class=\"dataframe\">\n",
              "  <thead>\n",
              "    <tr style=\"text-align: right;\">\n",
              "      <th></th>\n",
              "      <th>Unnamed: 0</th>\n",
              "      <th>age</th>\n",
              "      <th>days_since_last_login</th>\n",
              "      <th>avg_time_spent</th>\n",
              "      <th>avg_transaction_value</th>\n",
              "      <th>points_in_wallet</th>\n",
              "      <th>churn_risk_score</th>\n",
              "    </tr>\n",
              "  </thead>\n",
              "  <tbody>\n",
              "    <tr>\n",
              "      <th>count</th>\n",
              "      <td>36992.000000</td>\n",
              "      <td>36992.000000</td>\n",
              "      <td>36992.000000</td>\n",
              "      <td>36992.000000</td>\n",
              "      <td>36992.000000</td>\n",
              "      <td>33549.000000</td>\n",
              "      <td>36992.000000</td>\n",
              "    </tr>\n",
              "    <tr>\n",
              "      <th>mean</th>\n",
              "      <td>18495.500000</td>\n",
              "      <td>37.118161</td>\n",
              "      <td>-41.915576</td>\n",
              "      <td>243.472334</td>\n",
              "      <td>29271.194003</td>\n",
              "      <td>686.882199</td>\n",
              "      <td>0.540982</td>\n",
              "    </tr>\n",
              "    <tr>\n",
              "      <th>std</th>\n",
              "      <td>10678.814916</td>\n",
              "      <td>15.867412</td>\n",
              "      <td>228.819900</td>\n",
              "      <td>398.289149</td>\n",
              "      <td>19444.806226</td>\n",
              "      <td>194.063624</td>\n",
              "      <td>0.498324</td>\n",
              "    </tr>\n",
              "    <tr>\n",
              "      <th>min</th>\n",
              "      <td>0.000000</td>\n",
              "      <td>10.000000</td>\n",
              "      <td>-999.000000</td>\n",
              "      <td>-2814.109110</td>\n",
              "      <td>800.460000</td>\n",
              "      <td>-760.661236</td>\n",
              "      <td>0.000000</td>\n",
              "    </tr>\n",
              "    <tr>\n",
              "      <th>25%</th>\n",
              "      <td>9247.750000</td>\n",
              "      <td>23.000000</td>\n",
              "      <td>8.000000</td>\n",
              "      <td>60.102500</td>\n",
              "      <td>14177.540000</td>\n",
              "      <td>616.150000</td>\n",
              "      <td>0.000000</td>\n",
              "    </tr>\n",
              "    <tr>\n",
              "      <th>50%</th>\n",
              "      <td>18495.500000</td>\n",
              "      <td>37.000000</td>\n",
              "      <td>12.000000</td>\n",
              "      <td>161.765000</td>\n",
              "      <td>27554.485000</td>\n",
              "      <td>697.620000</td>\n",
              "      <td>1.000000</td>\n",
              "    </tr>\n",
              "    <tr>\n",
              "      <th>75%</th>\n",
              "      <td>27743.250000</td>\n",
              "      <td>51.000000</td>\n",
              "      <td>16.000000</td>\n",
              "      <td>356.515000</td>\n",
              "      <td>40855.110000</td>\n",
              "      <td>763.950000</td>\n",
              "      <td>1.000000</td>\n",
              "    </tr>\n",
              "    <tr>\n",
              "      <th>max</th>\n",
              "      <td>36991.000000</td>\n",
              "      <td>64.000000</td>\n",
              "      <td>26.000000</td>\n",
              "      <td>3235.578521</td>\n",
              "      <td>99914.050000</td>\n",
              "      <td>2069.069761</td>\n",
              "      <td>1.000000</td>\n",
              "    </tr>\n",
              "  </tbody>\n",
              "</table>\n",
              "</div>\n",
              "    <div class=\"colab-df-buttons\">\n",
              "\n",
              "  <div class=\"colab-df-container\">\n",
              "    <button class=\"colab-df-convert\" onclick=\"convertToInteractive('df-1e8d29f7-c82d-4e8d-bf92-386ab52c734c')\"\n",
              "            title=\"Convert this dataframe to an interactive table.\"\n",
              "            style=\"display:none;\">\n",
              "\n",
              "  <svg xmlns=\"http://www.w3.org/2000/svg\" height=\"24px\" viewBox=\"0 -960 960 960\">\n",
              "    <path d=\"M120-120v-720h720v720H120Zm60-500h600v-160H180v160Zm220 220h160v-160H400v160Zm0 220h160v-160H400v160ZM180-400h160v-160H180v160Zm440 0h160v-160H620v160ZM180-180h160v-160H180v160Zm440 0h160v-160H620v160Z\"/>\n",
              "  </svg>\n",
              "    </button>\n",
              "\n",
              "  <style>\n",
              "    .colab-df-container {\n",
              "      display:flex;\n",
              "      gap: 12px;\n",
              "    }\n",
              "\n",
              "    .colab-df-convert {\n",
              "      background-color: #E8F0FE;\n",
              "      border: none;\n",
              "      border-radius: 50%;\n",
              "      cursor: pointer;\n",
              "      display: none;\n",
              "      fill: #1967D2;\n",
              "      height: 32px;\n",
              "      padding: 0 0 0 0;\n",
              "      width: 32px;\n",
              "    }\n",
              "\n",
              "    .colab-df-convert:hover {\n",
              "      background-color: #E2EBFA;\n",
              "      box-shadow: 0px 1px 2px rgba(60, 64, 67, 0.3), 0px 1px 3px 1px rgba(60, 64, 67, 0.15);\n",
              "      fill: #174EA6;\n",
              "    }\n",
              "\n",
              "    .colab-df-buttons div {\n",
              "      margin-bottom: 4px;\n",
              "    }\n",
              "\n",
              "    [theme=dark] .colab-df-convert {\n",
              "      background-color: #3B4455;\n",
              "      fill: #D2E3FC;\n",
              "    }\n",
              "\n",
              "    [theme=dark] .colab-df-convert:hover {\n",
              "      background-color: #434B5C;\n",
              "      box-shadow: 0px 1px 3px 1px rgba(0, 0, 0, 0.15);\n",
              "      filter: drop-shadow(0px 1px 2px rgba(0, 0, 0, 0.3));\n",
              "      fill: #FFFFFF;\n",
              "    }\n",
              "  </style>\n",
              "\n",
              "    <script>\n",
              "      const buttonEl =\n",
              "        document.querySelector('#df-1e8d29f7-c82d-4e8d-bf92-386ab52c734c button.colab-df-convert');\n",
              "      buttonEl.style.display =\n",
              "        google.colab.kernel.accessAllowed ? 'block' : 'none';\n",
              "\n",
              "      async function convertToInteractive(key) {\n",
              "        const element = document.querySelector('#df-1e8d29f7-c82d-4e8d-bf92-386ab52c734c');\n",
              "        const dataTable =\n",
              "          await google.colab.kernel.invokeFunction('convertToInteractive',\n",
              "                                                    [key], {});\n",
              "        if (!dataTable) return;\n",
              "\n",
              "        const docLinkHtml = 'Like what you see? Visit the ' +\n",
              "          '<a target=\"_blank\" href=https://colab.research.google.com/notebooks/data_table.ipynb>data table notebook</a>'\n",
              "          + ' to learn more about interactive tables.';\n",
              "        element.innerHTML = '';\n",
              "        dataTable['output_type'] = 'display_data';\n",
              "        await google.colab.output.renderOutput(dataTable, element);\n",
              "        const docLink = document.createElement('div');\n",
              "        docLink.innerHTML = docLinkHtml;\n",
              "        element.appendChild(docLink);\n",
              "      }\n",
              "    </script>\n",
              "  </div>\n",
              "\n",
              "\n",
              "    <div id=\"df-deb1feac-cc27-4a97-afee-2b5129f03693\">\n",
              "      <button class=\"colab-df-quickchart\" onclick=\"quickchart('df-deb1feac-cc27-4a97-afee-2b5129f03693')\"\n",
              "                title=\"Suggest charts\"\n",
              "                style=\"display:none;\">\n",
              "\n",
              "<svg xmlns=\"http://www.w3.org/2000/svg\" height=\"24px\"viewBox=\"0 0 24 24\"\n",
              "     width=\"24px\">\n",
              "    <g>\n",
              "        <path d=\"M19 3H5c-1.1 0-2 .9-2 2v14c0 1.1.9 2 2 2h14c1.1 0 2-.9 2-2V5c0-1.1-.9-2-2-2zM9 17H7v-7h2v7zm4 0h-2V7h2v10zm4 0h-2v-4h2v4z\"/>\n",
              "    </g>\n",
              "</svg>\n",
              "      </button>\n",
              "\n",
              "<style>\n",
              "  .colab-df-quickchart {\n",
              "      --bg-color: #E8F0FE;\n",
              "      --fill-color: #1967D2;\n",
              "      --hover-bg-color: #E2EBFA;\n",
              "      --hover-fill-color: #174EA6;\n",
              "      --disabled-fill-color: #AAA;\n",
              "      --disabled-bg-color: #DDD;\n",
              "  }\n",
              "\n",
              "  [theme=dark] .colab-df-quickchart {\n",
              "      --bg-color: #3B4455;\n",
              "      --fill-color: #D2E3FC;\n",
              "      --hover-bg-color: #434B5C;\n",
              "      --hover-fill-color: #FFFFFF;\n",
              "      --disabled-bg-color: #3B4455;\n",
              "      --disabled-fill-color: #666;\n",
              "  }\n",
              "\n",
              "  .colab-df-quickchart {\n",
              "    background-color: var(--bg-color);\n",
              "    border: none;\n",
              "    border-radius: 50%;\n",
              "    cursor: pointer;\n",
              "    display: none;\n",
              "    fill: var(--fill-color);\n",
              "    height: 32px;\n",
              "    padding: 0;\n",
              "    width: 32px;\n",
              "  }\n",
              "\n",
              "  .colab-df-quickchart:hover {\n",
              "    background-color: var(--hover-bg-color);\n",
              "    box-shadow: 0 1px 2px rgba(60, 64, 67, 0.3), 0 1px 3px 1px rgba(60, 64, 67, 0.15);\n",
              "    fill: var(--button-hover-fill-color);\n",
              "  }\n",
              "\n",
              "  .colab-df-quickchart-complete:disabled,\n",
              "  .colab-df-quickchart-complete:disabled:hover {\n",
              "    background-color: var(--disabled-bg-color);\n",
              "    fill: var(--disabled-fill-color);\n",
              "    box-shadow: none;\n",
              "  }\n",
              "\n",
              "  .colab-df-spinner {\n",
              "    border: 2px solid var(--fill-color);\n",
              "    border-color: transparent;\n",
              "    border-bottom-color: var(--fill-color);\n",
              "    animation:\n",
              "      spin 1s steps(1) infinite;\n",
              "  }\n",
              "\n",
              "  @keyframes spin {\n",
              "    0% {\n",
              "      border-color: transparent;\n",
              "      border-bottom-color: var(--fill-color);\n",
              "      border-left-color: var(--fill-color);\n",
              "    }\n",
              "    20% {\n",
              "      border-color: transparent;\n",
              "      border-left-color: var(--fill-color);\n",
              "      border-top-color: var(--fill-color);\n",
              "    }\n",
              "    30% {\n",
              "      border-color: transparent;\n",
              "      border-left-color: var(--fill-color);\n",
              "      border-top-color: var(--fill-color);\n",
              "      border-right-color: var(--fill-color);\n",
              "    }\n",
              "    40% {\n",
              "      border-color: transparent;\n",
              "      border-right-color: var(--fill-color);\n",
              "      border-top-color: var(--fill-color);\n",
              "    }\n",
              "    60% {\n",
              "      border-color: transparent;\n",
              "      border-right-color: var(--fill-color);\n",
              "    }\n",
              "    80% {\n",
              "      border-color: transparent;\n",
              "      border-right-color: var(--fill-color);\n",
              "      border-bottom-color: var(--fill-color);\n",
              "    }\n",
              "    90% {\n",
              "      border-color: transparent;\n",
              "      border-bottom-color: var(--fill-color);\n",
              "    }\n",
              "  }\n",
              "</style>\n",
              "\n",
              "      <script>\n",
              "        async function quickchart(key) {\n",
              "          const quickchartButtonEl =\n",
              "            document.querySelector('#' + key + ' button');\n",
              "          quickchartButtonEl.disabled = true;  // To prevent multiple clicks.\n",
              "          quickchartButtonEl.classList.add('colab-df-spinner');\n",
              "          try {\n",
              "            const charts = await google.colab.kernel.invokeFunction(\n",
              "                'suggestCharts', [key], {});\n",
              "          } catch (error) {\n",
              "            console.error('Error during call to suggestCharts:', error);\n",
              "          }\n",
              "          quickchartButtonEl.classList.remove('colab-df-spinner');\n",
              "          quickchartButtonEl.classList.add('colab-df-quickchart-complete');\n",
              "        }\n",
              "        (() => {\n",
              "          let quickchartButtonEl =\n",
              "            document.querySelector('#df-deb1feac-cc27-4a97-afee-2b5129f03693 button');\n",
              "          quickchartButtonEl.style.display =\n",
              "            google.colab.kernel.accessAllowed ? 'block' : 'none';\n",
              "        })();\n",
              "      </script>\n",
              "    </div>\n",
              "\n",
              "    </div>\n",
              "  </div>\n"
            ],
            "application/vnd.google.colaboratory.intrinsic+json": {
              "type": "dataframe",
              "summary": "{\n  \"name\": \"df\",\n  \"rows\": 8,\n  \"fields\": [\n    {\n      \"column\": \"Unnamed: 0\",\n      \"properties\": {\n        \"dtype\": \"number\",\n        \"std\": 13331.87679830431,\n        \"min\": 0.0,\n        \"max\": 36992.0,\n        \"num_unique_values\": 7,\n        \"samples\": [\n          36992.0,\n          18495.5,\n          27743.25\n        ],\n        \"semantic_type\": \"\",\n        \"description\": \"\"\n      }\n    },\n    {\n      \"column\": \"age\",\n      \"properties\": {\n        \"dtype\": \"number\",\n        \"std\": 13066.639147697259,\n        \"min\": 10.0,\n        \"max\": 36992.0,\n        \"num_unique_values\": 8,\n        \"samples\": [\n          37.118160683391004,\n          37.0,\n          36992.0\n        ],\n        \"semantic_type\": \"\",\n        \"description\": \"\"\n      }\n    },\n    {\n      \"column\": \"days_since_last_login\",\n      \"properties\": {\n        \"dtype\": \"number\",\n        \"std\": 13121.829504608757,\n        \"min\": -999.0,\n        \"max\": 36992.0,\n        \"num_unique_values\": 8,\n        \"samples\": [\n          -41.91557634083045,\n          12.0,\n          36992.0\n        ],\n        \"semantic_type\": \"\",\n        \"description\": \"\"\n      }\n    },\n    {\n      \"column\": \"avg_time_spent\",\n      \"properties\": {\n        \"dtype\": \"number\",\n        \"std\": 13096.354608162515,\n        \"min\": -2814.10911,\n        \"max\": 36992.0,\n        \"num_unique_values\": 8,\n        \"samples\": [\n          243.4723336861725,\n          161.765,\n          36992.0\n        ],\n        \"semantic_type\": \"\",\n        \"description\": \"\"\n      }\n    },\n    {\n      \"column\": \"avg_transaction_value\",\n      \"properties\": {\n        \"dtype\": \"number\",\n        \"std\": 29689.796513374054,\n        \"min\": 800.46,\n        \"max\": 99914.05,\n        \"num_unique_values\": 8,\n        \"samples\": [\n          29271.194003027682,\n          27554.485,\n          36992.0\n        ],\n        \"semantic_type\": \"\",\n        \"description\": \"\"\n      }\n    },\n    {\n      \"column\": \"points_in_wallet\",\n      \"properties\": {\n        \"dtype\": \"number\",\n        \"std\": 11671.68443738783,\n        \"min\": -760.6612363,\n        \"max\": 33549.0,\n        \"num_unique_values\": 8,\n        \"samples\": [\n          686.8821987429263,\n          697.62,\n          33549.0\n        ],\n        \"semantic_type\": \"\",\n        \"description\": \"\"\n      }\n    },\n    {\n      \"column\": \"churn_risk_score\",\n      \"properties\": {\n        \"dtype\": \"number\",\n        \"std\": 13078.44301566233,\n        \"min\": 0.0,\n        \"max\": 36992.0,\n        \"num_unique_values\": 5,\n        \"samples\": [\n          0.5409818339100346,\n          1.0,\n          0.4983243946335435\n        ],\n        \"semantic_type\": \"\",\n        \"description\": \"\"\n      }\n    }\n  ]\n}"
            }
          },
          "metadata": {},
          "execution_count": 11
        }
      ],
      "source": [
        "#Distribution of values in the dataframe\n",
        "df.describe()"
      ]
    },
    {
      "cell_type": "markdown",
      "id": "5c2fcbd8-b13d-4f9c-b398-a6452d5cba38",
      "metadata": {
        "id": "5c2fcbd8-b13d-4f9c-b398-a6452d5cba38"
      },
      "source": [
        "### Step 2: Clean Column Names\n",
        "\n",
        "Standardize the column names by converting them to lowercase and replacing spaces with underscores.\n"
      ]
    },
    {
      "cell_type": "code",
      "execution_count": 12,
      "id": "6286454d-5edb-4bee-bd76-fa4e066a5a9f",
      "metadata": {
        "id": "6286454d-5edb-4bee-bd76-fa4e066a5a9f"
      },
      "outputs": [],
      "source": [
        "df.columns = df.columns.str.lower().str.replace(' ', '_')"
      ]
    },
    {
      "cell_type": "markdown",
      "id": "2989c7ee-88a7-471f-832b-0b2e46fa3f48",
      "metadata": {
        "id": "2989c7ee-88a7-471f-832b-0b2e46fa3f48"
      },
      "source": [
        "Calculating percentages of null values on each column. This is to determine the best approach of dealing with the missing values"
      ]
    },
    {
      "cell_type": "code",
      "execution_count": 13,
      "id": "062995be-4097-4245-bcf3-a2d4512613e4",
      "metadata": {
        "colab": {
          "base_uri": "https://localhost:8080/"
        },
        "id": "062995be-4097-4245-bcf3-a2d4512613e4",
        "outputId": "754acd4b-9ad8-4fc6-e014-e8dba0260244"
      },
      "outputs": [
        {
          "output_type": "stream",
          "name": "stdout",
          "text": [
            "Percentage of null values per column:\n",
            "unnamed:_0                       0.000000\n",
            "age                              0.000000\n",
            "gender                           0.000000\n",
            "security_no                      0.000000\n",
            "region_category                 14.673443\n",
            "membership_category              0.000000\n",
            "joining_date                     0.000000\n",
            "joined_through_referral          0.000000\n",
            "referral_id                      0.000000\n",
            "preferred_offer_types            0.778547\n",
            "medium_of_operation              0.000000\n",
            "internet_option                  0.000000\n",
            "last_visit_time                  0.000000\n",
            "days_since_last_login            0.000000\n",
            "avg_time_spent                   0.000000\n",
            "avg_transaction_value            0.000000\n",
            "avg_frequency_login_days         0.000000\n",
            "points_in_wallet                 9.307418\n",
            "used_special_discount            0.000000\n",
            "offer_application_preference     0.000000\n",
            "past_complaint                   0.000000\n",
            "complaint_status                 0.000000\n",
            "feedback                         0.000000\n",
            "churn_risk_score                 0.000000\n",
            "dtype: float64\n"
          ]
        }
      ],
      "source": [
        "# Calculate null values per column as a percentage\n",
        "null_percentage = (df.isnull().sum() / len(df)) * 100\n",
        "\n",
        "# Display the result\n",
        "print(\"Percentage of null values per column:\")\n",
        "print(null_percentage)"
      ]
    },
    {
      "cell_type": "markdown",
      "id": "28db8a78-755d-4dca-a92f-27f35aa45102",
      "metadata": {
        "id": "28db8a78-755d-4dca-a92f-27f35aa45102"
      },
      "source": [
        "This chart shows how customers are spread across different churn risk scores (0 = low risk, 1 = high risk). This helps us see if churn is a big concern.\n"
      ]
    },
    {
      "cell_type": "code",
      "execution_count": 14,
      "id": "ec1a59ee-1e16-4a29-bd1c-738f6194fd34",
      "metadata": {
        "colab": {
          "base_uri": "https://localhost:8080/",
          "height": 472
        },
        "id": "ec1a59ee-1e16-4a29-bd1c-738f6194fd34",
        "outputId": "3871676e-ea8f-4a34-bb93-d92d4377c648"
      },
      "outputs": [
        {
          "output_type": "display_data",
          "data": {
            "text/plain": [
              "<Figure size 640x480 with 1 Axes>"
            ],
            "image/png": "[encoded data removed]"
          },
          "metadata": {}
        }
      ],
      "source": [
        "# Target distribution\n",
        "sns.countplot(x='churn_risk_score', data=df)\n",
        "plt.title(\"Churn Risk Score Distribution\")\n",
        "plt.show()"
      ]
    },
    {
      "cell_type": "markdown",
      "id": "a965672b-f727-42d5-811c-3360d2ae3c98",
      "metadata": {
        "id": "a965672b-f727-42d5-811c-3360d2ae3c98"
      },
      "source": [
        "This heatmap shows how numerical features relate to each other. We can use it to see which features (like `tenure_days` or `feedback_sentiment`) are most connected to `churn_risk_score` when picking model inputs."
      ]
    },
    {
      "cell_type": "code",
      "execution_count": 15,
      "id": "020e8f84-da92-47ba-a5eb-bbb54e707a67",
      "metadata": {
        "colab": {
          "base_uri": "https://localhost:8080/",
          "height": 841
        },
        "id": "020e8f84-da92-47ba-a5eb-bbb54e707a67",
        "outputId": "adc3e3bd-5cb4-4a0a-8581-f754271b62f9"
      },
      "outputs": [
        {
          "output_type": "display_data",
          "data": {
            "text/plain": [
              "<Figure size 1200x800 with 2 Axes>"
            ],
            "image/png": "[encoded data removed]"
          },
          "metadata": {}
        }
      ],
      "source": [
        "# Correlation heatmap\n",
        "numerical_features = df.select_dtypes(include=['float64', 'int64'])\n",
        "plt.figure(figsize=(12, 8))\n",
        "sns.heatmap(numerical_features.corr(), annot=True, cmap='coolwarm', fmt='.2f')\n",
        "plt.title(\"Correlation Heatmap\")\n",
        "plt.show()"
      ]
    },
    {
      "cell_type": "markdown",
      "id": "8be4e784-fe40-448b-bfb2-7c046a3536ff",
      "metadata": {
        "id": "8be4e784-fe40-448b-bfb2-7c046a3536ff"
      },
      "source": [
        "We observe that there is no strong correlation between the numerical variables"
      ]
    },
    {
      "cell_type": "markdown",
      "id": "791a5979-0768-4250-a195-3a2dbca88630",
      "metadata": {
        "id": "791a5979-0768-4250-a195-3a2dbca88630"
      },
      "source": [
        "This plot shows how customer wallet points are spread out. It helps us understand if most customers have low, average, or high points.It is useful for identifying outliers or patterns that may affect churn."
      ]
    },
    {
      "cell_type": "code",
      "execution_count": 16,
      "id": "9eff3825-f59f-43b1-b32f-abe76453755d",
      "metadata": {
        "colab": {
          "base_uri": "https://localhost:8080/",
          "height": 410
        },
        "id": "9eff3825-f59f-43b1-b32f-abe76453755d",
        "outputId": "ef14005d-df79-48f5-ce10-d19436d129b0"
      },
      "outputs": [
        {
          "output_type": "display_data",
          "data": {
            "text/plain": [
              "<Figure size 600x400 with 1 Axes>"
            ],
            "image/png": "[encoded data removed]"
          },
          "metadata": {}
        }
      ],
      "source": [
        "# Numerical distributions\n",
        "for col in ['points_in_wallet']:\n",
        "    plt.figure(figsize=(6, 4))\n",
        "    sns.histplot(df[col], kde=True)\n",
        "    plt.title(f\"{col} Distribution\")\n",
        "    plt.show()"
      ]
    },
    {
      "cell_type": "markdown",
      "id": "63a204e4-a65f-40c3-bdae-662a09b1beaf",
      "metadata": {
        "id": "63a204e4-a65f-40c3-bdae-662a09b1beaf"
      },
      "source": [
        "From the above graph, we can see that the distribution is uniform"
      ]
    },
    {
      "cell_type": "markdown",
      "id": "6a658e03-32f6-4f72-9798-12fbc6a9f7c2",
      "metadata": {
        "id": "6a658e03-32f6-4f72-9798-12fbc6a9f7c2"
      },
      "source": [
        "The below graph shows membership category against churn risk score."
      ]
    },
    {
      "cell_type": "code",
      "execution_count": 17,
      "id": "0f32f425-96fe-41fb-90c3-5fbb89a5f0de",
      "metadata": {
        "colab": {
          "base_uri": "https://localhost:8080/",
          "height": 607
        },
        "id": "0f32f425-96fe-41fb-90c3-5fbb89a5f0de",
        "outputId": "2a4f5ff3-4ed0-4709-eb3d-f70bb6b1da49"
      },
      "outputs": [
        {
          "output_type": "display_data",
          "data": {
            "text/plain": [
              "<Figure size 1000x600 with 1 Axes>"
            ],
            "image/png": "[encoded data removed]"
          },
          "metadata": {}
        }
      ],
      "source": [
        "# Plot count of membership category vs churn risk score\n",
        "plt.figure(figsize=(10, 6))\n",
        "sns.countplot(data=df, x='membership_category', hue='churn_risk_score')\n",
        "\n",
        "# Visuals\n",
        "plt.title(\"Membership Category vs Churn Risk Score\")\n",
        "plt.xlabel(\"Membership Category\")\n",
        "plt.ylabel(\"Count\")\n",
        "plt.xticks(rotation=45)\n",
        "plt.legend(title=\"Churn Risk Score\")\n",
        "plt.tight_layout()\n",
        "plt.show()"
      ]
    },
    {
      "cell_type": "markdown",
      "id": "cccaa5f8-a5b9-4433-8024-96a468272a20",
      "metadata": {
        "id": "cccaa5f8-a5b9-4433-8024-96a468272a20"
      },
      "source": [
        "From the above graph we can see that people with basic membership have a high chance of leaving and as the category of membership grows the chance of churn reduces"
      ]
    },
    {
      "cell_type": "code",
      "execution_count": 18,
      "id": "fa480a40-d8b9-4f40-b948-0b0dc2020d10",
      "metadata": {
        "colab": {
          "base_uri": "https://localhost:8080/",
          "height": 607
        },
        "id": "fa480a40-d8b9-4f40-b948-0b0dc2020d10",
        "outputId": "e480243d-c3f5-4e16-c906-753c9b11a1ca"
      },
      "outputs": [
        {
          "output_type": "display_data",
          "data": {
            "text/plain": [
              "<Figure size 1000x600 with 1 Axes>"
            ],
            "image/png": "[encoded data removed]"
          },
          "metadata": {}
        }
      ],
      "source": [
        "plt.figure(figsize=(10, 6))\n",
        "sns.histplot(data=df, x='age', hue='churn_risk_score', bins=20, kde=True, palette='Set2', multiple='stack')\n",
        "\n",
        "plt.title('Age Distribution by Churn Status')\n",
        "plt.xlabel('Age')\n",
        "plt.ylabel('Count')\n",
        "plt.legend(title='Churn', labels=['No', 'Yes'])\n",
        "plt.grid(True)\n",
        "plt.tight_layout()\n",
        "plt.show()"
      ]
    },
    {
      "cell_type": "markdown",
      "id": "2b28efb2-77dc-4203-9385-a1de85f5db11",
      "metadata": {
        "id": "2b28efb2-77dc-4203-9385-a1de85f5db11"
      },
      "source": [
        "The age distribution chart shows that customer churn is fairly uniform across all age groups, with no particular age range standing out as having significantly higher or lower churn rates. Both churned and non-churned customers are distributed evenly across the age spectrum, as indicated by the consistent height of the stacked bars and the overlapping KDE lines. This suggests that age is not a strong predictor of churn in this dataset, and other factors such as tenure, usage, or region may offermore meaningful insights into customer churn behavior."
      ]
    },
    {
      "cell_type": "markdown",
      "id": "ab33c51b-1ae8-4d33-980d-3bc75d6455a6",
      "metadata": {
        "id": "ab33c51b-1ae8-4d33-980d-3bc75d6455a6"
      },
      "source": [
        "#### Dropping unnecessary columns\n",
        "\n",
        "We decided to drop the security number and ID columns since they did not offer any useful insightinto our analysis"
      ]
    },
    {
      "cell_type": "code",
      "execution_count": 19,
      "id": "08a1f2db-4a56-4aab-8d45-a7a273d6ca3c",
      "metadata": {
        "colab": {
          "base_uri": "https://localhost:8080/"
        },
        "id": "08a1f2db-4a56-4aab-8d45-a7a273d6ca3c",
        "outputId": "1148f1b3-1b80-4344-db52-a4f1b26d188d"
      },
      "outputs": [
        {
          "output_type": "stream",
          "name": "stdout",
          "text": [
            "Index(['unnamed:_0', 'age', 'gender', 'region_category', 'membership_category',\n",
            "       'joining_date', 'joined_through_referral', 'referral_id',\n",
            "       'preferred_offer_types', 'medium_of_operation', 'internet_option',\n",
            "       'last_visit_time', 'days_since_last_login', 'avg_time_spent',\n",
            "       'avg_transaction_value', 'avg_frequency_login_days', 'points_in_wallet',\n",
            "       'used_special_discount', 'offer_application_preference',\n",
            "       'past_complaint', 'complaint_status', 'feedback', 'churn_risk_score'],\n",
            "      dtype='object')\n"
          ]
        }
      ],
      "source": [
        "df.drop(columns=['security_no'], inplace=True)\n",
        "print(df.columns)"
      ]
    },
    {
      "cell_type": "markdown",
      "id": "3230c757-5390-4951-a2b0-fae527a6dc66",
      "metadata": {
        "id": "3230c757-5390-4951-a2b0-fae527a6dc66"
      },
      "source": [
        "#### Removing null values\n",
        "\n",
        "Starting with preferred_offer_types column we shall proceed to remove the null values. Since the percentage of null values in this column is 0.77% which is almost negligible, we will drop all the null rows."
      ]
    },
    {
      "cell_type": "code",
      "execution_count": 20,
      "id": "5e130548-15a7-4610-b9c2-50f9ea328961",
      "metadata": {
        "id": "5e130548-15a7-4610-b9c2-50f9ea328961"
      },
      "outputs": [],
      "source": [
        "# Drop rows where 'preferred_offer_types' is null\n",
        "df_cleaned = df.dropna(subset=['preferred_offer_types'])"
      ]
    },
    {
      "cell_type": "code",
      "execution_count": 21,
      "id": "d82ac42f-28f9-4e43-b863-d547f72366f7",
      "metadata": {
        "colab": {
          "base_uri": "https://localhost:8080/"
        },
        "id": "d82ac42f-28f9-4e43-b863-d547f72366f7",
        "outputId": "149b581a-4a85-4322-e756-1d151ff2395d"
      },
      "outputs": [
        {
          "output_type": "stream",
          "name": "stdout",
          "text": [
            "The most frequent (mode) value in 'region_category' is: Town\n"
          ]
        }
      ],
      "source": [
        "# Find the most frequent value (mode) of 'region_category'\n",
        "mode_region = df_cleaned['region_category'].mode()[0]\n",
        "print(f\"The most frequent (mode) value in 'region_category' is: {mode_region}\")"
      ]
    },
    {
      "cell_type": "code",
      "execution_count": 22,
      "id": "59a10add-5588-4918-8e29-914fa33460f8",
      "metadata": {
        "colab": {
          "base_uri": "https://localhost:8080/"
        },
        "id": "59a10add-5588-4918-8e29-914fa33460f8",
        "outputId": "fd69d1c0-bb4f-44ca-adca-a47505a09e6f"
      },
      "outputs": [
        {
          "output_type": "stream",
          "name": "stdout",
          "text": [
            "Distribution of values in 'region_category':\n",
            "region_category\n",
            "Town       14025\n",
            "City       12635\n",
            "NaN         5379\n",
            "Village     4665\n",
            "Name: count, dtype: int64\n"
          ]
        }
      ],
      "source": [
        "# Get distribution of 'region_category'\n",
        "region_distribution = df_cleaned['region_category'].value_counts(dropna=False)\n",
        "\n",
        "# Display the result\n",
        "print(\"Distribution of values in 'region_category':\")\n",
        "print(region_distribution)"
      ]
    },
    {
      "cell_type": "code",
      "execution_count": 23,
      "id": "f9d29076-b0e8-44d3-a722-32c8296d0d24",
      "metadata": {
        "id": "f9d29076-b0e8-44d3-a722-32c8296d0d24"
      },
      "outputs": [],
      "source": [
        "# Drop rows where 'region_category' is null\n",
        "df_cleaned = df_cleaned.dropna(subset=['region_category'])"
      ]
    },
    {
      "cell_type": "code",
      "execution_count": 24,
      "id": "b82e6b7c-db14-4328-b95d-a86c9843884e",
      "metadata": {
        "colab": {
          "base_uri": "https://localhost:8080/"
        },
        "id": "b82e6b7c-db14-4328-b95d-a86c9843884e",
        "outputId": "61702b43-8733-4a2c-af43-ce9863d3f4f5"
      },
      "outputs": [
        {
          "output_type": "stream",
          "name": "stdout",
          "text": [
            "unnamed:_0                      0.000000\n",
            "age                             0.000000\n",
            "gender                          0.000000\n",
            "region_category                 0.000000\n",
            "membership_category             0.000000\n",
            "joining_date                    0.000000\n",
            "joined_through_referral         0.000000\n",
            "referral_id                     0.000000\n",
            "preferred_offer_types           0.000000\n",
            "medium_of_operation             0.000000\n",
            "internet_option                 0.000000\n",
            "last_visit_time                 0.000000\n",
            "days_since_last_login           0.000000\n",
            "avg_time_spent                  0.000000\n",
            "avg_transaction_value           0.000000\n",
            "avg_frequency_login_days        0.000000\n",
            "points_in_wallet                9.423783\n",
            "used_special_discount           0.000000\n",
            "offer_application_preference    0.000000\n",
            "past_complaint                  0.000000\n",
            "complaint_status                0.000000\n",
            "feedback                        0.000000\n",
            "churn_risk_score                0.000000\n",
            "dtype: float64\n"
          ]
        }
      ],
      "source": [
        "# Display the result\n",
        "null_percentage_cleaned = (df_cleaned.isnull().sum() / len(df_cleaned)) * 100\n",
        "print(null_percentage_cleaned)"
      ]
    },
    {
      "cell_type": "code",
      "execution_count": 25,
      "id": "b9bf75a3-e8cb-4c00-b55c-4ac9605b88aa",
      "metadata": {
        "colab": {
          "base_uri": "https://localhost:8080/"
        },
        "id": "b9bf75a3-e8cb-4c00-b55c-4ac9605b88aa",
        "outputId": "e7520b0e-a22a-4a8a-e93a-3b8971685ddb"
      },
      "outputs": [
        {
          "output_type": "stream",
          "name": "stdout",
          "text": [
            "Distribution of values in 'points_in_wallet':\n",
            "points_in_wallet\n",
            "NaN           2952\n",
            "705.070000       9\n",
            "771.750000       7\n",
            "715.420000       6\n",
            "760.580000       6\n",
            "              ... \n",
            "678.090000       1\n",
            "375.237620       1\n",
            "330.077872       1\n",
            "594.140000       1\n",
            "747.940000       1\n",
            "Name: count, Length: 20978, dtype: int64\n"
          ]
        }
      ],
      "source": [
        "# Get distribution of 'region_category'\n",
        "points_in_wallet_distribution = df_cleaned['points_in_wallet'].value_counts(dropna=False)\n",
        "\n",
        "# Display the result\n",
        "print(\"Distribution of values in 'points_in_wallet':\")\n",
        "print(points_in_wallet_distribution)"
      ]
    },
    {
      "cell_type": "code",
      "execution_count": 26,
      "id": "2a651890-605b-4e9e-8ee3-5533bfdd6a6d",
      "metadata": {
        "colab": {
          "base_uri": "https://localhost:8080/"
        },
        "id": "2a651890-605b-4e9e-8ee3-5533bfdd6a6d",
        "outputId": "eb5b2665-36d0-43ef-9392-f6c5fb7c70ca"
      },
      "outputs": [
        {
          "output_type": "stream",
          "name": "stderr",
          "text": [
            "<ipython-input-26-9a3d43490aee>:2: FutureWarning: A value is trying to be set on a copy of a DataFrame or Series through chained assignment using an inplace method.\n",
            "The behavior will change in pandas 3.0. This inplace method will never work because the intermediate object on which we are setting values always behaves as a copy.\n",
            "\n",
            "For example, when doing 'df[col].method(value, inplace=True)', try using 'df.method({col: value}, inplace=True)' or df[col] = df[col].method(value) instead, to perform the operation inplace on the original object.\n",
            "\n",
            "\n",
            "  df_cleaned['points_in_wallet'].fillna(df_cleaned['points_in_wallet'].median(), inplace=True)\n"
          ]
        }
      ],
      "source": [
        "# Fill missing values\n",
        "df_cleaned['points_in_wallet'].fillna(df_cleaned['points_in_wallet'].median(), inplace=True)\n"
      ]
    },
    {
      "cell_type": "code",
      "execution_count": 27,
      "id": "ea87835c-6e8e-47b5-af6b-c74056dd43e2",
      "metadata": {
        "colab": {
          "base_uri": "https://localhost:8080/"
        },
        "id": "ea87835c-6e8e-47b5-af6b-c74056dd43e2",
        "outputId": "bddfd851-df15-4411-dbc1-22fb13abd801"
      },
      "outputs": [
        {
          "output_type": "stream",
          "name": "stdout",
          "text": [
            "unnamed:_0                      0.0\n",
            "age                             0.0\n",
            "gender                          0.0\n",
            "region_category                 0.0\n",
            "membership_category             0.0\n",
            "joining_date                    0.0\n",
            "joined_through_referral         0.0\n",
            "referral_id                     0.0\n",
            "preferred_offer_types           0.0\n",
            "medium_of_operation             0.0\n",
            "internet_option                 0.0\n",
            "last_visit_time                 0.0\n",
            "days_since_last_login           0.0\n",
            "avg_time_spent                  0.0\n",
            "avg_transaction_value           0.0\n",
            "avg_frequency_login_days        0.0\n",
            "points_in_wallet                0.0\n",
            "used_special_discount           0.0\n",
            "offer_application_preference    0.0\n",
            "past_complaint                  0.0\n",
            "complaint_status                0.0\n",
            "feedback                        0.0\n",
            "churn_risk_score                0.0\n",
            "dtype: float64\n"
          ]
        }
      ],
      "source": [
        "null_percentage_cleaned = (df_cleaned.isnull().sum() / len(df_cleaned)) * 100\n",
        "print(null_percentage_cleaned)"
      ]
    },
    {
      "cell_type": "code",
      "execution_count": 28,
      "id": "09dab6fc-acd0-49e2-aad8-6e6828a00a7e",
      "metadata": {
        "colab": {
          "base_uri": "https://localhost:8080/"
        },
        "id": "09dab6fc-acd0-49e2-aad8-6e6828a00a7e",
        "outputId": "c32f60c0-7e73-4c65-83a6-fd45f23af7de"
      },
      "outputs": [
        {
          "output_type": "execute_result",
          "data": {
            "text/plain": [
              "(31325, 23)"
            ]
          },
          "metadata": {},
          "execution_count": 28
        }
      ],
      "source": [
        "df_cleaned.shape"
      ]
    },
    {
      "cell_type": "code",
      "execution_count": 29,
      "id": "091bc378-d24e-4040-80db-e93aa1b8db97",
      "metadata": {
        "colab": {
          "base_uri": "https://localhost:8080/",
          "height": 377
        },
        "id": "091bc378-d24e-4040-80db-e93aa1b8db97",
        "outputId": "69644faf-4548-4465-8317-f84c1ed34c38"
      },
      "outputs": [
        {
          "output_type": "execute_result",
          "data": {
            "text/plain": [
              "   unnamed:_0  age gender region_category  membership_category joining_date  \\\n",
              "0           0   18      F         Village  Platinum Membership   17-08-2017   \n",
              "1           1   32      F            City   Premium Membership   28-08-2017   \n",
              "2           2   44      F            Town        No Membership   11-11-2016   \n",
              "3           3   37      M            City        No Membership   29-10-2016   \n",
              "4           4   31      F            City        No Membership   12-09-2017   \n",
              "\n",
              "  joined_through_referral referral_id     preferred_offer_types  \\\n",
              "0                      No    xxxxxxxx     Gift Vouchers/Coupons   \n",
              "1                       ?    CID21329     Gift Vouchers/Coupons   \n",
              "2                     Yes    CID12313     Gift Vouchers/Coupons   \n",
              "3                     Yes     CID3793     Gift Vouchers/Coupons   \n",
              "4                      No    xxxxxxxx  Credit/Debit Card Offers   \n",
              "\n",
              "  medium_of_operation  ... avg_time_spent avg_transaction_value  \\\n",
              "0                   ?  ...         300.63              53005.25   \n",
              "1             Desktop  ...         306.34              12838.38   \n",
              "2             Desktop  ...         516.16              21027.00   \n",
              "3             Desktop  ...          53.27              25239.56   \n",
              "4          Smartphone  ...         113.13              24483.66   \n",
              "\n",
              "   avg_frequency_login_days  points_in_wallet  used_special_discount  \\\n",
              "0                        17            781.75                    Yes   \n",
              "1                        10            698.48                    Yes   \n",
              "2                        22            500.69                     No   \n",
              "3                         6            567.66                     No   \n",
              "4                        16            663.06                     No   \n",
              "\n",
              "  offer_application_preference  past_complaint     complaint_status  \\\n",
              "0                          Yes              No       Not Applicable   \n",
              "1                           No             Yes               Solved   \n",
              "2                          Yes             Yes  Solved in Follow-up   \n",
              "3                          Yes             Yes             Unsolved   \n",
              "4                          Yes             Yes               Solved   \n",
              "\n",
              "                   feedback churn_risk_score  \n",
              "0  Products always in Stock                0  \n",
              "1     Quality Customer Care                0  \n",
              "2              Poor Website                1  \n",
              "3              Poor Website                1  \n",
              "4              Poor Website                1  \n",
              "\n",
              "[5 rows x 23 columns]"
            ],
            "text/html": [
              "\n",
              "  <div id=\"df-4cb6de82-05f2-4235-9eba-2e0ae9c4d80e\" class=\"colab-df-container\">\n",
              "    <div>\n",
              "<style scoped>\n",
              "    .dataframe tbody tr th:only-of-type {\n",
              "        vertical-align: middle;\n",
              "    }\n",
              "\n",
              "    .dataframe tbody tr th {\n",
              "        vertical-align: top;\n",
              "    }\n",
              "\n",
              "    .dataframe thead th {\n",
              "        text-align: right;\n",
              "    }\n",
              "</style>\n",
              "<table border=\"1\" class=\"dataframe\">\n",
              "  <thead>\n",
              "    <tr style=\"text-align: right;\">\n",
              "      <th></th>\n",
              "      <th>unnamed:_0</th>\n",
              "      <th>age</th>\n",
              "      <th>gender</th>\n",
              "      <th>region_category</th>\n",
              "      <th>membership_category</th>\n",
              "      <th>joining_date</th>\n",
              "      <th>joined_through_referral</th>\n",
              "      <th>referral_id</th>\n",
              "      <th>preferred_offer_types</th>\n",
              "      <th>medium_of_operation</th>\n",
              "      <th>...</th>\n",
              "      <th>avg_time_spent</th>\n",
              "      <th>avg_transaction_value</th>\n",
              "      <th>avg_frequency_login_days</th>\n",
              "      <th>points_in_wallet</th>\n",
              "      <th>used_special_discount</th>\n",
              "      <th>offer_application_preference</th>\n",
              "      <th>past_complaint</th>\n",
              "      <th>complaint_status</th>\n",
              "      <th>feedback</th>\n",
              "      <th>churn_risk_score</th>\n",
              "    </tr>\n",
              "  </thead>\n",
              "  <tbody>\n",
              "    <tr>\n",
              "      <th>0</th>\n",
              "      <td>0</td>\n",
              "      <td>18</td>\n",
              "      <td>F</td>\n",
              "      <td>Village</td>\n",
              "      <td>Platinum Membership</td>\n",
              "      <td>17-08-2017</td>\n",
              "      <td>No</td>\n",
              "      <td>xxxxxxxx</td>\n",
              "      <td>Gift Vouchers/Coupons</td>\n",
              "      <td>?</td>\n",
              "      <td>...</td>\n",
              "      <td>300.63</td>\n",
              "      <td>53005.25</td>\n",
              "      <td>17</td>\n",
              "      <td>781.75</td>\n",
              "      <td>Yes</td>\n",
              "      <td>Yes</td>\n",
              "      <td>No</td>\n",
              "      <td>Not Applicable</td>\n",
              "      <td>Products always in Stock</td>\n",
              "      <td>0</td>\n",
              "    </tr>\n",
              "    <tr>\n",
              "      <th>1</th>\n",
              "      <td>1</td>\n",
              "      <td>32</td>\n",
              "      <td>F</td>\n",
              "      <td>City</td>\n",
              "      <td>Premium Membership</td>\n",
              "      <td>28-08-2017</td>\n",
              "      <td>?</td>\n",
              "      <td>CID21329</td>\n",
              "      <td>Gift Vouchers/Coupons</td>\n",
              "      <td>Desktop</td>\n",
              "      <td>...</td>\n",
              "      <td>306.34</td>\n",
              "      <td>12838.38</td>\n",
              "      <td>10</td>\n",
              "      <td>698.48</td>\n",
              "      <td>Yes</td>\n",
              "      <td>No</td>\n",
              "      <td>Yes</td>\n",
              "      <td>Solved</td>\n",
              "      <td>Quality Customer Care</td>\n",
              "      <td>0</td>\n",
              "    </tr>\n",
              "    <tr>\n",
              "      <th>2</th>\n",
              "      <td>2</td>\n",
              "      <td>44</td>\n",
              "      <td>F</td>\n",
              "      <td>Town</td>\n",
              "      <td>No Membership</td>\n",
              "      <td>11-11-2016</td>\n",
              "      <td>Yes</td>\n",
              "      <td>CID12313</td>\n",
              "      <td>Gift Vouchers/Coupons</td>\n",
              "      <td>Desktop</td>\n",
              "      <td>...</td>\n",
              "      <td>516.16</td>\n",
              "      <td>21027.00</td>\n",
              "      <td>22</td>\n",
              "      <td>500.69</td>\n",
              "      <td>No</td>\n",
              "      <td>Yes</td>\n",
              "      <td>Yes</td>\n",
              "      <td>Solved in Follow-up</td>\n",
              "      <td>Poor Website</td>\n",
              "      <td>1</td>\n",
              "    </tr>\n",
              "    <tr>\n",
              "      <th>3</th>\n",
              "      <td>3</td>\n",
              "      <td>37</td>\n",
              "      <td>M</td>\n",
              "      <td>City</td>\n",
              "      <td>No Membership</td>\n",
              "      <td>29-10-2016</td>\n",
              "      <td>Yes</td>\n",
              "      <td>CID3793</td>\n",
              "      <td>Gift Vouchers/Coupons</td>\n",
              "      <td>Desktop</td>\n",
              "      <td>...</td>\n",
              "      <td>53.27</td>\n",
              "      <td>25239.56</td>\n",
              "      <td>6</td>\n",
              "      <td>567.66</td>\n",
              "      <td>No</td>\n",
              "      <td>Yes</td>\n",
              "      <td>Yes</td>\n",
              "      <td>Unsolved</td>\n",
              "      <td>Poor Website</td>\n",
              "      <td>1</td>\n",
              "    </tr>\n",
              "    <tr>\n",
              "      <th>4</th>\n",
              "      <td>4</td>\n",
              "      <td>31</td>\n",
              "      <td>F</td>\n",
              "      <td>City</td>\n",
              "      <td>No Membership</td>\n",
              "      <td>12-09-2017</td>\n",
              "      <td>No</td>\n",
              "      <td>xxxxxxxx</td>\n",
              "      <td>Credit/Debit Card Offers</td>\n",
              "      <td>Smartphone</td>\n",
              "      <td>...</td>\n",
              "      <td>113.13</td>\n",
              "      <td>24483.66</td>\n",
              "      <td>16</td>\n",
              "      <td>663.06</td>\n",
              "      <td>No</td>\n",
              "      <td>Yes</td>\n",
              "      <td>Yes</td>\n",
              "      <td>Solved</td>\n",
              "      <td>Poor Website</td>\n",
              "      <td>1</td>\n",
              "    </tr>\n",
              "  </tbody>\n",
              "</table>\n",
              "<p>5 rows × 23 columns</p>\n",
              "</div>\n",
              "    <div class=\"colab-df-buttons\">\n",
              "\n",
              "  <div class=\"colab-df-container\">\n",
              "    <button class=\"colab-df-convert\" onclick=\"convertToInteractive('df-4cb6de82-05f2-4235-9eba-2e0ae9c4d80e')\"\n",
              "            title=\"Convert this dataframe to an interactive table.\"\n",
              "            style=\"display:none;\">\n",
              "\n",
              "  <svg xmlns=\"http://www.w3.org/2000/svg\" height=\"24px\" viewBox=\"0 -960 960 960\">\n",
              "    <path d=\"M120-120v-720h720v720H120Zm60-500h600v-160H180v160Zm220 220h160v-160H400v160Zm0 220h160v-160H400v160ZM180-400h160v-160H180v160Zm440 0h160v-160H620v160ZM180-180h160v-160H180v160Zm440 0h160v-160H620v160Z\"/>\n",
              "  </svg>\n",
              "    </button>\n",
              "\n",
              "  <style>\n",
              "    .colab-df-container {\n",
              "      display:flex;\n",
              "      gap: 12px;\n",
              "    }\n",
              "\n",
              "    .colab-df-convert {\n",
              "      background-color: #E8F0FE;\n",
              "      border: none;\n",
              "      border-radius: 50%;\n",
              "      cursor: pointer;\n",
              "      display: none;\n",
              "      fill: #1967D2;\n",
              "      height: 32px;\n",
              "      padding: 0 0 0 0;\n",
              "      width: 32px;\n",
              "    }\n",
              "\n",
              "    .colab-df-convert:hover {\n",
              "      background-color: #E2EBFA;\n",
              "      box-shadow: 0px 1px 2px rgba(60, 64, 67, 0.3), 0px 1px 3px 1px rgba(60, 64, 67, 0.15);\n",
              "      fill: #174EA6;\n",
              "    }\n",
              "\n",
              "    .colab-df-buttons div {\n",
              "      margin-bottom: 4px;\n",
              "    }\n",
              "\n",
              "    [theme=dark] .colab-df-convert {\n",
              "      background-color: #3B4455;\n",
              "      fill: #D2E3FC;\n",
              "    }\n",
              "\n",
              "    [theme=dark] .colab-df-convert:hover {\n",
              "      background-color: #434B5C;\n",
              "      box-shadow: 0px 1px 3px 1px rgba(0, 0, 0, 0.15);\n",
              "      filter: drop-shadow(0px 1px 2px rgba(0, 0, 0, 0.3));\n",
              "      fill: #FFFFFF;\n",
              "    }\n",
              "  </style>\n",
              "\n",
              "    <script>\n",
              "      const buttonEl =\n",
              "        document.querySelector('#df-4cb6de82-05f2-4235-9eba-2e0ae9c4d80e button.colab-df-convert');\n",
              "      buttonEl.style.display =\n",
              "        google.colab.kernel.accessAllowed ? 'block' : 'none';\n",
              "\n",
              "      async function convertToInteractive(key) {\n",
              "        const element = document.querySelector('#df-4cb6de82-05f2-4235-9eba-2e0ae9c4d80e');\n",
              "        const dataTable =\n",
              "          await google.colab.kernel.invokeFunction('convertToInteractive',\n",
              "                                                    [key], {});\n",
              "        if (!dataTable) return;\n",
              "\n",
              "        const docLinkHtml = 'Like what you see? Visit the ' +\n",
              "          '<a target=\"_blank\" href=https://colab.research.google.com/notebooks/data_table.ipynb>data table notebook</a>'\n",
              "          + ' to learn more about interactive tables.';\n",
              "        element.innerHTML = '';\n",
              "        dataTable['output_type'] = 'display_data';\n",
              "        await google.colab.output.renderOutput(dataTable, element);\n",
              "        const docLink = document.createElement('div');\n",
              "        docLink.innerHTML = docLinkHtml;\n",
              "        element.appendChild(docLink);\n",
              "      }\n",
              "    </script>\n",
              "  </div>\n",
              "\n",
              "\n",
              "    <div id=\"df-9e92a576-11d6-48d7-bf85-fa9b0f88b005\">\n",
              "      <button class=\"colab-df-quickchart\" onclick=\"quickchart('df-9e92a576-11d6-48d7-bf85-fa9b0f88b005')\"\n",
              "                title=\"Suggest charts\"\n",
              "                style=\"display:none;\">\n",
              "\n",
              "<svg xmlns=\"http://www.w3.org/2000/svg\" height=\"24px\"viewBox=\"0 0 24 24\"\n",
              "     width=\"24px\">\n",
              "    <g>\n",
              "        <path d=\"M19 3H5c-1.1 0-2 .9-2 2v14c0 1.1.9 2 2 2h14c1.1 0 2-.9 2-2V5c0-1.1-.9-2-2-2zM9 17H7v-7h2v7zm4 0h-2V7h2v10zm4 0h-2v-4h2v4z\"/>\n",
              "    </g>\n",
              "</svg>\n",
              "      </button>\n",
              "\n",
              "<style>\n",
              "  .colab-df-quickchart {\n",
              "      --bg-color: #E8F0FE;\n",
              "      --fill-color: #1967D2;\n",
              "      --hover-bg-color: #E2EBFA;\n",
              "      --hover-fill-color: #174EA6;\n",
              "      --disabled-fill-color: #AAA;\n",
              "      --disabled-bg-color: #DDD;\n",
              "  }\n",
              "\n",
              "  [theme=dark] .colab-df-quickchart {\n",
              "      --bg-color: #3B4455;\n",
              "      --fill-color: #D2E3FC;\n",
              "      --hover-bg-color: #434B5C;\n",
              "      --hover-fill-color: #FFFFFF;\n",
              "      --disabled-bg-color: #3B4455;\n",
              "      --disabled-fill-color: #666;\n",
              "  }\n",
              "\n",
              "  .colab-df-quickchart {\n",
              "    background-color: var(--bg-color);\n",
              "    border: none;\n",
              "    border-radius: 50%;\n",
              "    cursor: pointer;\n",
              "    display: none;\n",
              "    fill: var(--fill-color);\n",
              "    height: 32px;\n",
              "    padding: 0;\n",
              "    width: 32px;\n",
              "  }\n",
              "\n",
              "  .colab-df-quickchart:hover {\n",
              "    background-color: var(--hover-bg-color);\n",
              "    box-shadow: 0 1px 2px rgba(60, 64, 67, 0.3), 0 1px 3px 1px rgba(60, 64, 67, 0.15);\n",
              "    fill: var(--button-hover-fill-color);\n",
              "  }\n",
              "\n",
              "  .colab-df-quickchart-complete:disabled,\n",
              "  .colab-df-quickchart-complete:disabled:hover {\n",
              "    background-color: var(--disabled-bg-color);\n",
              "    fill: var(--disabled-fill-color);\n",
              "    box-shadow: none;\n",
              "  }\n",
              "\n",
              "  .colab-df-spinner {\n",
              "    border: 2px solid var(--fill-color);\n",
              "    border-color: transparent;\n",
              "    border-bottom-color: var(--fill-color);\n",
              "    animation:\n",
              "      spin 1s steps(1) infinite;\n",
              "  }\n",
              "\n",
              "  @keyframes spin {\n",
              "    0% {\n",
              "      border-color: transparent;\n",
              "      border-bottom-color: var(--fill-color);\n",
              "      border-left-color: var(--fill-color);\n",
              "    }\n",
              "    20% {\n",
              "      border-color: transparent;\n",
              "      border-left-color: var(--fill-color);\n",
              "      border-top-color: var(--fill-color);\n",
              "    }\n",
              "    30% {\n",
              "      border-color: transparent;\n",
              "      border-left-color: var(--fill-color);\n",
              "      border-top-color: var(--fill-color);\n",
              "      border-right-color: var(--fill-color);\n",
              "    }\n",
              "    40% {\n",
              "      border-color: transparent;\n",
              "      border-right-color: var(--fill-color);\n",
              "      border-top-color: var(--fill-color);\n",
              "    }\n",
              "    60% {\n",
              "      border-color: transparent;\n",
              "      border-right-color: var(--fill-color);\n",
              "    }\n",
              "    80% {\n",
              "      border-color: transparent;\n",
              "      border-right-color: var(--fill-color);\n",
              "      border-bottom-color: var(--fill-color);\n",
              "    }\n",
              "    90% {\n",
              "      border-color: transparent;\n",
              "      border-bottom-color: var(--fill-color);\n",
              "    }\n",
              "  }\n",
              "</style>\n",
              "\n",
              "      <script>\n",
              "        async function quickchart(key) {\n",
              "          const quickchartButtonEl =\n",
              "            document.querySelector('#' + key + ' button');\n",
              "          quickchartButtonEl.disabled = true;  // To prevent multiple clicks.\n",
              "          quickchartButtonEl.classList.add('colab-df-spinner');\n",
              "          try {\n",
              "            const charts = await google.colab.kernel.invokeFunction(\n",
              "                'suggestCharts', [key], {});\n",
              "          } catch (error) {\n",
              "            console.error('Error during call to suggestCharts:', error);\n",
              "          }\n",
              "          quickchartButtonEl.classList.remove('colab-df-spinner');\n",
              "          quickchartButtonEl.classList.add('colab-df-quickchart-complete');\n",
              "        }\n",
              "        (() => {\n",
              "          let quickchartButtonEl =\n",
              "            document.querySelector('#df-9e92a576-11d6-48d7-bf85-fa9b0f88b005 button');\n",
              "          quickchartButtonEl.style.display =\n",
              "            google.colab.kernel.accessAllowed ? 'block' : 'none';\n",
              "        })();\n",
              "      </script>\n",
              "    </div>\n",
              "\n",
              "    </div>\n",
              "  </div>\n"
            ],
            "application/vnd.google.colaboratory.intrinsic+json": {
              "type": "dataframe",
              "variable_name": "df_cleaned"
            }
          },
          "metadata": {},
          "execution_count": 29
        }
      ],
      "source": [
        "df_cleaned.head()"
      ]
    },
    {
      "cell_type": "markdown",
      "source": [
        "We've observed that the dataset contains many hidden missing values represented by placeholder terms. To accurately identify and address them, we plan to carefully inspect each column individually."
      ],
      "metadata": {
        "id": "zgI6D86ZdY1N"
      },
      "id": "zgI6D86ZdY1N"
    },
    {
      "cell_type": "code",
      "source": [
        "# Inspecting the membership_categoty column\n",
        "df_cleaned['membership_category'].value_counts()"
      ],
      "metadata": {
        "colab": {
          "base_uri": "https://localhost:8080/",
          "height": 304
        },
        "id": "_B3Zey73cnA7",
        "outputId": "38f4cd68-8756-4e43-b986-3474aaf9f22a"
      },
      "id": "_B3Zey73cnA7",
      "execution_count": 30,
      "outputs": [
        {
          "output_type": "execute_result",
          "data": {
            "text/plain": [
              "membership_category\n",
              "Basic Membership       6516\n",
              "No Membership          6493\n",
              "Gold Membership        5743\n",
              "Silver Membership      5107\n",
              "Premium Membership     3779\n",
              "Platinum Membership    3687\n",
              "Name: count, dtype: int64"
            ],
            "text/html": [
              "<div>\n",
              "<style scoped>\n",
              "    .dataframe tbody tr th:only-of-type {\n",
              "        vertical-align: middle;\n",
              "    }\n",
              "\n",
              "    .dataframe tbody tr th {\n",
              "        vertical-align: top;\n",
              "    }\n",
              "\n",
              "    .dataframe thead th {\n",
              "        text-align: right;\n",
              "    }\n",
              "</style>\n",
              "<table border=\"1\" class=\"dataframe\">\n",
              "  <thead>\n",
              "    <tr style=\"text-align: right;\">\n",
              "      <th></th>\n",
              "      <th>count</th>\n",
              "    </tr>\n",
              "    <tr>\n",
              "      <th>membership_category</th>\n",
              "      <th></th>\n",
              "    </tr>\n",
              "  </thead>\n",
              "  <tbody>\n",
              "    <tr>\n",
              "      <th>Basic Membership</th>\n",
              "      <td>6516</td>\n",
              "    </tr>\n",
              "    <tr>\n",
              "      <th>No Membership</th>\n",
              "      <td>6493</td>\n",
              "    </tr>\n",
              "    <tr>\n",
              "      <th>Gold Membership</th>\n",
              "      <td>5743</td>\n",
              "    </tr>\n",
              "    <tr>\n",
              "      <th>Silver Membership</th>\n",
              "      <td>5107</td>\n",
              "    </tr>\n",
              "    <tr>\n",
              "      <th>Premium Membership</th>\n",
              "      <td>3779</td>\n",
              "    </tr>\n",
              "    <tr>\n",
              "      <th>Platinum Membership</th>\n",
              "      <td>3687</td>\n",
              "    </tr>\n",
              "  </tbody>\n",
              "</table>\n",
              "</div><br><label><b>dtype:</b> int64</label>"
            ]
          },
          "metadata": {},
          "execution_count": 30
        }
      ]
    },
    {
      "cell_type": "markdown",
      "source": [
        "For this column, the values appear valid and present; there are no hidden missing values detected.\n",
        "\n"
      ],
      "metadata": {
        "id": "Jzy-oGLTdmcZ"
      },
      "id": "Jzy-oGLTdmcZ"
    },
    {
      "cell_type": "code",
      "source": [
        "# Inspecting the joining_date column. For this, we shall start by converting the column to datetime fomart.\n",
        "\n",
        "df_cleaned['joining_date'] = pd.to_datetime(df_cleaned['joining_date'], errors = 'coerce')"
      ],
      "metadata": {
        "id": "oE_mU6xzcm8w"
      },
      "id": "oE_mU6xzcm8w",
      "execution_count": 35,
      "outputs": []
    },
    {
      "cell_type": "markdown",
      "source": [
        "To facilitate the analysis of seasonal and monthly churning patterns, we will extract the month and year from this column into separate fields.\n"
      ],
      "metadata": {
        "id": "-gvEsbZMlO-o"
      },
      "id": "-gvEsbZMlO-o"
    },
    {
      "cell_type": "code",
      "source": [
        "# Feature engineering a column for month and year\n",
        "df_cleaned['joining_year'] = df_cleaned['joining_date'].dt.year\n",
        "df_cleaned['joining_month'] = df_cleaned['joining_date'].dt.month"
      ],
      "metadata": {
        "id": "OKXoCDZVcm6B"
      },
      "id": "OKXoCDZVcm6B",
      "execution_count": 40,
      "outputs": []
    },
    {
      "cell_type": "code",
      "source": [
        "# Inspecting the joined through referral column\n",
        "df_cleaned['joined_through_referral'].value_counts()"
      ],
      "metadata": {
        "colab": {
          "base_uri": "https://localhost:8080/",
          "height": 210
        },
        "id": "rX1HiYt-cm0Q",
        "outputId": "27f94cb1-26c5-4232-a9d8-b2f49d8a5666"
      },
      "id": "rX1HiYt-cm0Q",
      "execution_count": 47,
      "outputs": [
        {
          "output_type": "execute_result",
          "data": {
            "text/plain": [
              "joined_through_referral\n",
              "No     13455\n",
              "Yes    13266\n",
              "?       4604\n",
              "Name: count, dtype: int64"
            ],
            "text/html": [
              "<div>\n",
              "<style scoped>\n",
              "    .dataframe tbody tr th:only-of-type {\n",
              "        vertical-align: middle;\n",
              "    }\n",
              "\n",
              "    .dataframe tbody tr th {\n",
              "        vertical-align: top;\n",
              "    }\n",
              "\n",
              "    .dataframe thead th {\n",
              "        text-align: right;\n",
              "    }\n",
              "</style>\n",
              "<table border=\"1\" class=\"dataframe\">\n",
              "  <thead>\n",
              "    <tr style=\"text-align: right;\">\n",
              "      <th></th>\n",
              "      <th>count</th>\n",
              "    </tr>\n",
              "    <tr>\n",
              "      <th>joined_through_referral</th>\n",
              "      <th></th>\n",
              "    </tr>\n",
              "  </thead>\n",
              "  <tbody>\n",
              "    <tr>\n",
              "      <th>No</th>\n",
              "      <td>13455</td>\n",
              "    </tr>\n",
              "    <tr>\n",
              "      <th>Yes</th>\n",
              "      <td>13266</td>\n",
              "    </tr>\n",
              "    <tr>\n",
              "      <th>?</th>\n",
              "      <td>4604</td>\n",
              "    </tr>\n",
              "  </tbody>\n",
              "</table>\n",
              "</div><br><label><b>dtype:</b> int64</label>"
            ]
          },
          "metadata": {},
          "execution_count": 47
        }
      ]
    },
    {
      "cell_type": "markdown",
      "source": [
        "We have identified several entries where the value is missing and represented as '?'. Since this is a boolean field, it is difficult to confidently classify these as either 'Yes' or 'No'. Therefore, we will replace these unknown values with 'Not_recorded' to maintain clarity without making inaccurate assumptions or losing data in dropping them."
      ],
      "metadata": {
        "id": "_2Njt_PwnlXu"
      },
      "id": "_2Njt_PwnlXu"
    },
    {
      "cell_type": "code",
      "source": [
        "# Replacing '?' with 'Not_recorded'\n",
        "df_cleaned['joined_through_referral'] = df_cleaned['joined_through_referral'].replace('?','Not_recorded')"
      ],
      "metadata": {
        "id": "uZ-eXEUBcmxk"
      },
      "id": "uZ-eXEUBcmxk",
      "execution_count": 48,
      "outputs": []
    }
  ],
  "metadata": {
    "kernelspec": {
      "display_name": "Python [conda env:base] *",
      "language": "python",
      "name": "conda-base-py"
    },
    "language_info": {
      "codemirror_mode": {
        "name": "ipython",
        "version": 3
      },
      "file_extension": ".py",
      "mimetype": "text/x-python",
      "name": "python",
      "nbconvert_exporter": "python",
      "pygments_lexer": "ipython3",
      "version": "3.12.7"
    },
    "colab": {
      "provenance": []
    }
  },
  "nbformat": 4,
  "nbformat_minor": 5
}