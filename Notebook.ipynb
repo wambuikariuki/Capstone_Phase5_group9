{
 "cells": [
  {
   "cell_type": "code",
   "execution_count": 2,
   "id": "3af69fd9-5a56-4bfb-8cc7-f641fb6e7aa3",
   "metadata": {
    "id": "3af69fd9-5a56-4bfb-8cc7-f641fb6e7aa3"
   },
   "outputs": [],
   "source": [
    "#Import necessary libraries\n",
    "import pandas as pd\n",
    "import numpy as np\n",
    "import matplotlib.pyplot as plt\n",
    "import seaborn as sns\n",
    "from sklearn.model_selection import train_test_split\n",
    "from sklearn.preprocessing import StandardScaler\n",
    "from sklearn.model_selection import train_test_split\n",
    "from sklearn.preprocessing import StandardScaler, LabelEncoder\n",
    "\n",
    "from sklearn.linear_model import LogisticRegression\n",
    "from sklearn.ensemble import RandomForestClassifier\n",
    "from xgboost import XGBClassifier\n",
    "\n",
    "import warnings\n",
    "warnings.filterwarnings('ignore')"
   ]
  },
  {
   "cell_type": "code",
   "execution_count": 3,
   "id": "f23cef2c-57f7-43cf-ab84-58af9ec57f11",
   "metadata": {
    "colab": {
     "base_uri": "https://localhost:8080/",
     "height": 394
    },
    "id": "f23cef2c-57f7-43cf-ab84-58af9ec57f11",
    "outputId": "89cbd2eb-c8c1-462d-cb89-7c8f3beab45c"
   },
   "outputs": [
    {
     "data": {
      "text/html": [
       "<div>\n",
       "<style scoped>\n",
       "    .dataframe tbody tr th:only-of-type {\n",
       "        vertical-align: middle;\n",
       "    }\n",
       "\n",
       "    .dataframe tbody tr th {\n",
       "        vertical-align: top;\n",
       "    }\n",
       "\n",
       "    .dataframe thead th {\n",
       "        text-align: right;\n",
       "    }\n",
       "</style>\n",
       "<table border=\"1\" class=\"dataframe\">\n",
       "  <thead>\n",
       "    <tr style=\"text-align: right;\">\n",
       "      <th></th>\n",
       "      <th>age</th>\n",
       "      <th>gender</th>\n",
       "      <th>security_no</th>\n",
       "      <th>region_category</th>\n",
       "      <th>membership_category</th>\n",
       "      <th>joining_date</th>\n",
       "      <th>joined_through_referral</th>\n",
       "      <th>referral_id</th>\n",
       "      <th>preferred_offer_types</th>\n",
       "      <th>medium_of_operation</th>\n",
       "      <th>...</th>\n",
       "      <th>avg_time_spent</th>\n",
       "      <th>avg_transaction_value</th>\n",
       "      <th>avg_frequency_login_days</th>\n",
       "      <th>points_in_wallet</th>\n",
       "      <th>used_special_discount</th>\n",
       "      <th>offer_application_preference</th>\n",
       "      <th>past_complaint</th>\n",
       "      <th>complaint_status</th>\n",
       "      <th>feedback</th>\n",
       "      <th>churn_risk_score</th>\n",
       "    </tr>\n",
       "  </thead>\n",
       "  <tbody>\n",
       "    <tr>\n",
       "      <th>0</th>\n",
       "      <td>18</td>\n",
       "      <td>F</td>\n",
       "      <td>XW0DQ7H</td>\n",
       "      <td>Village</td>\n",
       "      <td>Platinum Membership</td>\n",
       "      <td>17-08-2017</td>\n",
       "      <td>No</td>\n",
       "      <td>xxxxxxxx</td>\n",
       "      <td>Gift Vouchers/Coupons</td>\n",
       "      <td>?</td>\n",
       "      <td>...</td>\n",
       "      <td>300.63</td>\n",
       "      <td>53005.25</td>\n",
       "      <td>17</td>\n",
       "      <td>781.75</td>\n",
       "      <td>Yes</td>\n",
       "      <td>Yes</td>\n",
       "      <td>No</td>\n",
       "      <td>Not Applicable</td>\n",
       "      <td>Products always in Stock</td>\n",
       "      <td>0</td>\n",
       "    </tr>\n",
       "    <tr>\n",
       "      <th>1</th>\n",
       "      <td>32</td>\n",
       "      <td>F</td>\n",
       "      <td>5K0N3X1</td>\n",
       "      <td>City</td>\n",
       "      <td>Premium Membership</td>\n",
       "      <td>28-08-2017</td>\n",
       "      <td>?</td>\n",
       "      <td>CID21329</td>\n",
       "      <td>Gift Vouchers/Coupons</td>\n",
       "      <td>Desktop</td>\n",
       "      <td>...</td>\n",
       "      <td>306.34</td>\n",
       "      <td>12838.38</td>\n",
       "      <td>10</td>\n",
       "      <td>NaN</td>\n",
       "      <td>Yes</td>\n",
       "      <td>No</td>\n",
       "      <td>Yes</td>\n",
       "      <td>Solved</td>\n",
       "      <td>Quality Customer Care</td>\n",
       "      <td>0</td>\n",
       "    </tr>\n",
       "    <tr>\n",
       "      <th>2</th>\n",
       "      <td>44</td>\n",
       "      <td>F</td>\n",
       "      <td>1F2TCL3</td>\n",
       "      <td>Town</td>\n",
       "      <td>No Membership</td>\n",
       "      <td>11/11/2016</td>\n",
       "      <td>Yes</td>\n",
       "      <td>CID12313</td>\n",
       "      <td>Gift Vouchers/Coupons</td>\n",
       "      <td>Desktop</td>\n",
       "      <td>...</td>\n",
       "      <td>516.16</td>\n",
       "      <td>21027.00</td>\n",
       "      <td>22</td>\n",
       "      <td>500.69</td>\n",
       "      <td>No</td>\n",
       "      <td>Yes</td>\n",
       "      <td>Yes</td>\n",
       "      <td>Solved in Follow-up</td>\n",
       "      <td>Poor Website</td>\n",
       "      <td>1</td>\n",
       "    </tr>\n",
       "    <tr>\n",
       "      <th>3</th>\n",
       "      <td>37</td>\n",
       "      <td>M</td>\n",
       "      <td>VJGJ33N</td>\n",
       "      <td>City</td>\n",
       "      <td>No Membership</td>\n",
       "      <td>29-10-2016</td>\n",
       "      <td>Yes</td>\n",
       "      <td>CID3793</td>\n",
       "      <td>Gift Vouchers/Coupons</td>\n",
       "      <td>Desktop</td>\n",
       "      <td>...</td>\n",
       "      <td>53.27</td>\n",
       "      <td>25239.56</td>\n",
       "      <td>6</td>\n",
       "      <td>567.66</td>\n",
       "      <td>No</td>\n",
       "      <td>Yes</td>\n",
       "      <td>Yes</td>\n",
       "      <td>Unsolved</td>\n",
       "      <td>Poor Website</td>\n",
       "      <td>1</td>\n",
       "    </tr>\n",
       "    <tr>\n",
       "      <th>4</th>\n",
       "      <td>31</td>\n",
       "      <td>F</td>\n",
       "      <td>SVZXCWB</td>\n",
       "      <td>City</td>\n",
       "      <td>No Membership</td>\n",
       "      <td>12/9/2017</td>\n",
       "      <td>No</td>\n",
       "      <td>xxxxxxxx</td>\n",
       "      <td>Credit/Debit Card Offers</td>\n",
       "      <td>Smartphone</td>\n",
       "      <td>...</td>\n",
       "      <td>113.13</td>\n",
       "      <td>24483.66</td>\n",
       "      <td>16</td>\n",
       "      <td>663.06</td>\n",
       "      <td>No</td>\n",
       "      <td>Yes</td>\n",
       "      <td>Yes</td>\n",
       "      <td>Solved</td>\n",
       "      <td>Poor Website</td>\n",
       "      <td>1</td>\n",
       "    </tr>\n",
       "  </tbody>\n",
       "</table>\n",
       "<p>5 rows × 23 columns</p>\n",
       "</div>"
      ],
      "text/plain": [
       "   age gender security_no region_category  membership_category joining_date  \\\n",
       "0   18      F     XW0DQ7H         Village  Platinum Membership   17-08-2017   \n",
       "1   32      F     5K0N3X1            City   Premium Membership   28-08-2017   \n",
       "2   44      F     1F2TCL3            Town        No Membership   11/11/2016   \n",
       "3   37      M     VJGJ33N            City        No Membership   29-10-2016   \n",
       "4   31      F     SVZXCWB            City        No Membership    12/9/2017   \n",
       "\n",
       "  joined_through_referral referral_id     preferred_offer_types  \\\n",
       "0                      No    xxxxxxxx     Gift Vouchers/Coupons   \n",
       "1                       ?    CID21329     Gift Vouchers/Coupons   \n",
       "2                     Yes    CID12313     Gift Vouchers/Coupons   \n",
       "3                     Yes     CID3793     Gift Vouchers/Coupons   \n",
       "4                      No    xxxxxxxx  Credit/Debit Card Offers   \n",
       "\n",
       "  medium_of_operation  ... avg_time_spent avg_transaction_value  \\\n",
       "0                   ?  ...         300.63              53005.25   \n",
       "1             Desktop  ...         306.34              12838.38   \n",
       "2             Desktop  ...         516.16              21027.00   \n",
       "3             Desktop  ...          53.27              25239.56   \n",
       "4          Smartphone  ...         113.13              24483.66   \n",
       "\n",
       "   avg_frequency_login_days  points_in_wallet  used_special_discount  \\\n",
       "0                        17            781.75                    Yes   \n",
       "1                        10               NaN                    Yes   \n",
       "2                        22            500.69                     No   \n",
       "3                         6            567.66                     No   \n",
       "4                        16            663.06                     No   \n",
       "\n",
       "  offer_application_preference  past_complaint     complaint_status  \\\n",
       "0                          Yes              No       Not Applicable   \n",
       "1                           No             Yes               Solved   \n",
       "2                          Yes             Yes  Solved in Follow-up   \n",
       "3                          Yes             Yes             Unsolved   \n",
       "4                          Yes             Yes               Solved   \n",
       "\n",
       "                   feedback churn_risk_score  \n",
       "0  Products always in Stock                0  \n",
       "1     Quality Customer Care                0  \n",
       "2              Poor Website                1  \n",
       "3              Poor Website                1  \n",
       "4              Poor Website                1  \n",
       "\n",
       "[5 rows x 23 columns]"
      ]
     },
     "execution_count": 3,
     "metadata": {},
     "output_type": "execute_result"
    }
   ],
   "source": [
    "# Load dataset from absolute path\n",
    "df = pd.read_csv(\"/Users/matagaro/pythonProjects/Capstone_Phase5_group9/customer_churn.csv\")\n",
    "#load the first 5 columns\n",
    "df.head()"
   ]
  },
  {
   "cell_type": "code",
   "execution_count": 4,
   "id": "86754194-a187-4b13-95ca-45e10e709923",
   "metadata": {
    "colab": {
     "base_uri": "https://localhost:8080/"
    },
    "id": "86754194-a187-4b13-95ca-45e10e709923",
    "outputId": "316bab6b-8ad7-4a0e-ace2-3d095b5e243a"
   },
   "outputs": [
    {
     "data": {
      "text/plain": [
       "(36992, 23)"
      ]
     },
     "execution_count": 4,
     "metadata": {},
     "output_type": "execute_result"
    }
   ],
   "source": [
    "#Getting the shape of dataframe\n",
    "df.shape"
   ]
  },
  {
   "cell_type": "code",
   "execution_count": 5,
   "id": "623b4b8e-eb20-412a-884d-3cc519ce93ac",
   "metadata": {
    "colab": {
     "base_uri": "https://localhost:8080/"
    },
    "id": "623b4b8e-eb20-412a-884d-3cc519ce93ac",
    "outputId": "9fb40b08-658b-4cd0-c562-21db1b2051d2"
   },
   "outputs": [
    {
     "data": {
      "text/plain": [
       "Index(['age', 'gender', 'security_no', 'region_category',\n",
       "       'membership_category', 'joining_date', 'joined_through_referral',\n",
       "       'referral_id', 'preferred_offer_types', 'medium_of_operation',\n",
       "       'internet_option', 'last_visit_time', 'days_since_last_login',\n",
       "       'avg_time_spent', 'avg_transaction_value', 'avg_frequency_login_days',\n",
       "       'points_in_wallet', 'used_special_discount',\n",
       "       'offer_application_preference', 'past_complaint', 'complaint_status',\n",
       "       'feedback', 'churn_risk_score'],\n",
       "      dtype='object')"
      ]
     },
     "execution_count": 5,
     "metadata": {},
     "output_type": "execute_result"
    }
   ],
   "source": [
    "# Loading all columns that exist in our dataframe\n",
    "df.columns"
   ]
  },
  {
   "cell_type": "code",
   "execution_count": 6,
   "id": "6df76862-4953-4509-8732-5111fb89f084",
   "metadata": {
    "colab": {
     "base_uri": "https://localhost:8080/"
    },
    "id": "6df76862-4953-4509-8732-5111fb89f084",
    "outputId": "23c64855-0eb9-4c88-8f44-8232cd2ae91e"
   },
   "outputs": [
    {
     "name": "stdout",
     "output_type": "stream",
     "text": [
      "<class 'pandas.core.frame.DataFrame'>\n",
      "RangeIndex: 36992 entries, 0 to 36991\n",
      "Data columns (total 23 columns):\n",
      " #   Column                        Non-Null Count  Dtype  \n",
      "---  ------                        --------------  -----  \n",
      " 0   age                           36992 non-null  int64  \n",
      " 1   gender                        36992 non-null  object \n",
      " 2   security_no                   36992 non-null  object \n",
      " 3   region_category               31564 non-null  object \n",
      " 4   membership_category           36992 non-null  object \n",
      " 5   joining_date                  36992 non-null  object \n",
      " 6   joined_through_referral       36992 non-null  object \n",
      " 7   referral_id                   36992 non-null  object \n",
      " 8   preferred_offer_types         36704 non-null  object \n",
      " 9   medium_of_operation           36992 non-null  object \n",
      " 10  internet_option               36992 non-null  object \n",
      " 11  last_visit_time               36992 non-null  object \n",
      " 12  days_since_last_login         36992 non-null  int64  \n",
      " 13  avg_time_spent                36992 non-null  float64\n",
      " 14  avg_transaction_value         36992 non-null  float64\n",
      " 15  avg_frequency_login_days      36992 non-null  object \n",
      " 16  points_in_wallet              33549 non-null  float64\n",
      " 17  used_special_discount         36992 non-null  object \n",
      " 18  offer_application_preference  36992 non-null  object \n",
      " 19  past_complaint                36992 non-null  object \n",
      " 20  complaint_status              36992 non-null  object \n",
      " 21  feedback                      36992 non-null  object \n",
      " 22  churn_risk_score              36992 non-null  int64  \n",
      "dtypes: float64(3), int64(3), object(17)\n",
      "memory usage: 6.5+ MB\n"
     ]
    }
   ],
   "source": [
    "#Data types in our dataframe\n",
    "df.info()"
   ]
  },
  {
   "cell_type": "code",
   "execution_count": 7,
   "id": "fddd1729-8571-4632-a610-c4d92c2039b5",
   "metadata": {
    "colab": {
     "base_uri": "https://localhost:8080/",
     "height": 300
    },
    "id": "fddd1729-8571-4632-a610-c4d92c2039b5",
    "outputId": "d3a6b019-55ec-4a65-d976-56071a8f6f68"
   },
   "outputs": [
    {
     "data": {
      "text/html": [
       "<div>\n",
       "<style scoped>\n",
       "    .dataframe tbody tr th:only-of-type {\n",
       "        vertical-align: middle;\n",
       "    }\n",
       "\n",
       "    .dataframe tbody tr th {\n",
       "        vertical-align: top;\n",
       "    }\n",
       "\n",
       "    .dataframe thead th {\n",
       "        text-align: right;\n",
       "    }\n",
       "</style>\n",
       "<table border=\"1\" class=\"dataframe\">\n",
       "  <thead>\n",
       "    <tr style=\"text-align: right;\">\n",
       "      <th></th>\n",
       "      <th>age</th>\n",
       "      <th>days_since_last_login</th>\n",
       "      <th>avg_time_spent</th>\n",
       "      <th>avg_transaction_value</th>\n",
       "      <th>points_in_wallet</th>\n",
       "      <th>churn_risk_score</th>\n",
       "    </tr>\n",
       "  </thead>\n",
       "  <tbody>\n",
       "    <tr>\n",
       "      <th>count</th>\n",
       "      <td>36992.000000</td>\n",
       "      <td>36992.000000</td>\n",
       "      <td>36992.000000</td>\n",
       "      <td>36992.000000</td>\n",
       "      <td>33549.000000</td>\n",
       "      <td>36992.000000</td>\n",
       "    </tr>\n",
       "    <tr>\n",
       "      <th>mean</th>\n",
       "      <td>37.118161</td>\n",
       "      <td>-41.915576</td>\n",
       "      <td>243.472334</td>\n",
       "      <td>29271.194003</td>\n",
       "      <td>686.882199</td>\n",
       "      <td>0.540982</td>\n",
       "    </tr>\n",
       "    <tr>\n",
       "      <th>std</th>\n",
       "      <td>15.867412</td>\n",
       "      <td>228.819900</td>\n",
       "      <td>398.289149</td>\n",
       "      <td>19444.806226</td>\n",
       "      <td>194.063624</td>\n",
       "      <td>0.498324</td>\n",
       "    </tr>\n",
       "    <tr>\n",
       "      <th>min</th>\n",
       "      <td>10.000000</td>\n",
       "      <td>-999.000000</td>\n",
       "      <td>-2814.109110</td>\n",
       "      <td>800.460000</td>\n",
       "      <td>-760.661236</td>\n",
       "      <td>0.000000</td>\n",
       "    </tr>\n",
       "    <tr>\n",
       "      <th>25%</th>\n",
       "      <td>23.000000</td>\n",
       "      <td>8.000000</td>\n",
       "      <td>60.102500</td>\n",
       "      <td>14177.540000</td>\n",
       "      <td>616.150000</td>\n",
       "      <td>0.000000</td>\n",
       "    </tr>\n",
       "    <tr>\n",
       "      <th>50%</th>\n",
       "      <td>37.000000</td>\n",
       "      <td>12.000000</td>\n",
       "      <td>161.765000</td>\n",
       "      <td>27554.485000</td>\n",
       "      <td>697.620000</td>\n",
       "      <td>1.000000</td>\n",
       "    </tr>\n",
       "    <tr>\n",
       "      <th>75%</th>\n",
       "      <td>51.000000</td>\n",
       "      <td>16.000000</td>\n",
       "      <td>356.515000</td>\n",
       "      <td>40855.110000</td>\n",
       "      <td>763.950000</td>\n",
       "      <td>1.000000</td>\n",
       "    </tr>\n",
       "    <tr>\n",
       "      <th>max</th>\n",
       "      <td>64.000000</td>\n",
       "      <td>26.000000</td>\n",
       "      <td>3235.578521</td>\n",
       "      <td>99914.050000</td>\n",
       "      <td>2069.069761</td>\n",
       "      <td>1.000000</td>\n",
       "    </tr>\n",
       "  </tbody>\n",
       "</table>\n",
       "</div>"
      ],
      "text/plain": [
       "                age  days_since_last_login  avg_time_spent  \\\n",
       "count  36992.000000           36992.000000    36992.000000   \n",
       "mean      37.118161             -41.915576      243.472334   \n",
       "std       15.867412             228.819900      398.289149   \n",
       "min       10.000000            -999.000000    -2814.109110   \n",
       "25%       23.000000               8.000000       60.102500   \n",
       "50%       37.000000              12.000000      161.765000   \n",
       "75%       51.000000              16.000000      356.515000   \n",
       "max       64.000000              26.000000     3235.578521   \n",
       "\n",
       "       avg_transaction_value  points_in_wallet  churn_risk_score  \n",
       "count           36992.000000      33549.000000      36992.000000  \n",
       "mean            29271.194003        686.882199          0.540982  \n",
       "std             19444.806226        194.063624          0.498324  \n",
       "min               800.460000       -760.661236          0.000000  \n",
       "25%             14177.540000        616.150000          0.000000  \n",
       "50%             27554.485000        697.620000          1.000000  \n",
       "75%             40855.110000        763.950000          1.000000  \n",
       "max             99914.050000       2069.069761          1.000000  "
      ]
     },
     "execution_count": 7,
     "metadata": {},
     "output_type": "execute_result"
    }
   ],
   "source": [
    "#Distribution of values in the dataframe\n",
    "df.describe()"
   ]
  },
  {
   "cell_type": "markdown",
   "id": "5c2fcbd8-b13d-4f9c-b398-a6452d5cba38",
   "metadata": {
    "id": "5c2fcbd8-b13d-4f9c-b398-a6452d5cba38"
   },
   "source": [
    "### Step 2: Clean Column Names\n",
    "\n",
    "Standardize the column names by converting them to lowercase and replacing spaces with underscores.\n"
   ]
  },
  {
   "cell_type": "code",
   "execution_count": 9,
   "id": "6286454d-5edb-4bee-bd76-fa4e066a5a9f",
   "metadata": {
    "id": "6286454d-5edb-4bee-bd76-fa4e066a5a9f"
   },
   "outputs": [],
   "source": [
    "df.columns = df.columns.str.lower().str.replace(' ', '_')"
   ]
  },
  {
   "cell_type": "markdown",
   "id": "2989c7ee-88a7-471f-832b-0b2e46fa3f48",
   "metadata": {
    "id": "2989c7ee-88a7-471f-832b-0b2e46fa3f48"
   },
   "source": [
    "Calculating percentages of null values on each column. This is to determine the best approach of dealing with the missing values"
   ]
  },
  {
   "cell_type": "code",
   "execution_count": 11,
   "id": "062995be-4097-4245-bcf3-a2d4512613e4",
   "metadata": {
    "colab": {
     "base_uri": "https://localhost:8080/"
    },
    "id": "062995be-4097-4245-bcf3-a2d4512613e4",
    "outputId": "754acd4b-9ad8-4fc6-e014-e8dba0260244"
   },
   "outputs": [
    {
     "name": "stdout",
     "output_type": "stream",
     "text": [
      "Percentage of null values per column:\n",
      "age                              0.000000\n",
      "gender                           0.000000\n",
      "security_no                      0.000000\n",
      "region_category                 14.673443\n",
      "membership_category              0.000000\n",
      "joining_date                     0.000000\n",
      "joined_through_referral          0.000000\n",
      "referral_id                      0.000000\n",
      "preferred_offer_types            0.778547\n",
      "medium_of_operation              0.000000\n",
      "internet_option                  0.000000\n",
      "last_visit_time                  0.000000\n",
      "days_since_last_login            0.000000\n",
      "avg_time_spent                   0.000000\n",
      "avg_transaction_value            0.000000\n",
      "avg_frequency_login_days         0.000000\n",
      "points_in_wallet                 9.307418\n",
      "used_special_discount            0.000000\n",
      "offer_application_preference     0.000000\n",
      "past_complaint                   0.000000\n",
      "complaint_status                 0.000000\n",
      "feedback                         0.000000\n",
      "churn_risk_score                 0.000000\n",
      "dtype: float64\n"
     ]
    }
   ],
   "source": [
    "# Calculate null values per column as a percentage\n",
    "null_percentage = (df.isnull().sum() / len(df)) * 100\n",
    "\n",
    "# Display the result\n",
    "print(\"Percentage of null values per column:\")\n",
    "print(null_percentage)"
   ]
  },
  {
   "cell_type": "markdown",
   "id": "28db8a78-755d-4dca-a92f-27f35aa45102",
   "metadata": {
    "id": "28db8a78-755d-4dca-a92f-27f35aa45102"
   },
   "source": [
    "This chart shows how customers are spread across different churn risk scores (0 = low risk, 1 = high risk). This helps us see if churn is a big concern.\n"
   ]
  },
  {
   "cell_type": "code",
   "execution_count": 13,
   "id": "ec1a59ee-1e16-4a29-bd1c-738f6194fd34",
   "metadata": {
    "colab": {
     "base_uri": "https://localhost:8080/",
     "height": 472
    },
    "id": "ec1a59ee-1e16-4a29-bd1c-738f6194fd34",
    "outputId": "3871676e-ea8f-4a34-bb93-d92d4377c648"
   },
   "outputs": [
    {
     "data": {
      "image/png": "[encoded data removed]",
      "text/plain": [
       "<Figure size 640x480 with 1 Axes>"
      ]
     },
     "metadata": {},
     "output_type": "display_data"
    }
   ],
   "source": [
    "# Target distribution\n",
    "sns.countplot(x='churn_risk_score', data=df)\n",
    "plt.title(\"Churn Risk Score Distribution\")\n",
    "plt.show()"
   ]
  },
  {
   "cell_type": "markdown",
   "id": "a965672b-f727-42d5-811c-3360d2ae3c98",
   "metadata": {
    "id": "a965672b-f727-42d5-811c-3360d2ae3c98"
   },
   "source": [
    "This heatmap shows how numerical features relate to each other. We can use it to see which features (like `tenure_days` or `feedback_sentiment`) are most connected to `churn_risk_score` when picking model inputs."
   ]
  },
  {
   "cell_type": "code",
   "execution_count": 15,
   "id": "020e8f84-da92-47ba-a5eb-bbb54e707a67",
   "metadata": {
    "colab": {
     "base_uri": "https://localhost:8080/",
     "height": 841
    },
    "id": "020e8f84-da92-47ba-a5eb-bbb54e707a67",
    "outputId": "adc3e3bd-5cb4-4a0a-8581-f754271b62f9"
   },
   "outputs": [
    {
     "data": {
      "image/png": "[encoded data removed]",
      "text/plain": [
       "<Figure size 1200x800 with 2 Axes>"
      ]
     },
     "metadata": {},
     "output_type": "display_data"
    }
   ],
   "source": [
    "# Correlation heatmap\n",
    "numerical_features = df.select_dtypes(include=['float64', 'int64'])\n",
    "plt.figure(figsize=(12, 8))\n",
    "sns.heatmap(numerical_features.corr(), annot=True, cmap='coolwarm', fmt='.2f')\n",
    "plt.title(\"Correlation Heatmap\")\n",
    "plt.show()"
   ]
  },
  {
   "cell_type": "markdown",
   "id": "8be4e784-fe40-448b-bfb2-7c046a3536ff",
   "metadata": {
    "id": "8be4e784-fe40-448b-bfb2-7c046a3536ff"
   },
   "source": [
    "We observe that there is no strong correlation between the numerical variables"
   ]
  },
  {
   "cell_type": "markdown",
   "id": "791a5979-0768-4250-a195-3a2dbca88630",
   "metadata": {
    "id": "791a5979-0768-4250-a195-3a2dbca88630"
   },
   "source": [
    "This plot shows how customer wallet points are spread out. It helps us understand if most customers have low, average, or high points.It is useful for identifying outliers or patterns that may affect churn."
   ]
  },
  {
   "cell_type": "code",
   "execution_count": 18,
   "id": "9eff3825-f59f-43b1-b32f-abe76453755d",
   "metadata": {
    "colab": {
     "base_uri": "https://localhost:8080/",
     "height": 410
    },
    "id": "9eff3825-f59f-43b1-b32f-abe76453755d",
    "outputId": "ef14005d-df79-48f5-ce10-d19436d129b0"
   },
   "outputs": [
    {
     "data": {
      "image/png": "[encoded data removed]",
      "text/plain": [
       "<Figure size 600x400 with 1 Axes>"
      ]
     },
     "metadata": {},
     "output_type": "display_data"
    }
   ],
   "source": [
    "# Numerical distributions\n",
    "for col in ['points_in_wallet']:\n",
    "    plt.figure(figsize=(6, 4))\n",
    "    sns.histplot(df[col], kde=True)\n",
    "    plt.title(f\"{col} Distribution\")\n",
    "    plt.show()"
   ]
  },
  {
   "cell_type": "markdown",
   "id": "63a204e4-a65f-40c3-bdae-662a09b1beaf",
   "metadata": {
    "id": "63a204e4-a65f-40c3-bdae-662a09b1beaf"
   },
   "source": [
    "From the above graph, we can see that the distribution is uniform"
   ]
  },
  {
   "cell_type": "markdown",
   "id": "6a658e03-32f6-4f72-9798-12fbc6a9f7c2",
   "metadata": {
    "id": "6a658e03-32f6-4f72-9798-12fbc6a9f7c2"
   },
   "source": [
    "The below graph shows membership category against churn risk score."
   ]
  },
  {
   "cell_type": "code",
   "execution_count": 21,
   "id": "0f32f425-96fe-41fb-90c3-5fbb89a5f0de",
   "metadata": {
    "colab": {
     "base_uri": "https://localhost:8080/",
     "height": 607
    },
    "id": "0f32f425-96fe-41fb-90c3-5fbb89a5f0de",
    "outputId": "2a4f5ff3-4ed0-4709-eb3d-f70bb6b1da49"
   },
   "outputs": [
    {
     "data": {
      "image/png": "[encoded data removed]",
      "text/plain": [
       "<Figure size 1000x600 with 1 Axes>"
      ]
     },
     "metadata": {},
     "output_type": "display_data"
    }
   ],
   "source": [
    "# Plot count of membership category vs churn risk score\n",
    "plt.figure(figsize=(10, 6))\n",
    "sns.countplot(data=df, x='membership_category', hue='churn_risk_score')\n",
    "\n",
    "# Visuals\n",
    "plt.title(\"Membership Category vs Churn Risk Score\")\n",
    "plt.xlabel(\"Membership Category\")\n",
    "plt.ylabel(\"Count\")\n",
    "plt.xticks(rotation=45)\n",
    "plt.legend(title=\"Churn Risk Score\")\n",
    "plt.tight_layout()\n",
    "plt.show()"
   ]
  },
  {
   "cell_type": "markdown",
   "id": "cccaa5f8-a5b9-4433-8024-96a468272a20",
   "metadata": {
    "id": "cccaa5f8-a5b9-4433-8024-96a468272a20"
   },
   "source": [
    "From the above graph we can see that people with basic membership have a high chance of leaving and as the category of membership grows the chance of churn reduces"
   ]
  },
  {
   "cell_type": "code",
   "execution_count": 23,
   "id": "fa480a40-d8b9-4f40-b948-0b0dc2020d10",
   "metadata": {
    "colab": {
     "base_uri": "https://localhost:8080/",
     "height": 607
    },
    "id": "fa480a40-d8b9-4f40-b948-0b0dc2020d10",
    "outputId": "e480243d-c3f5-4e16-c906-753c9b11a1ca"
   },
   "outputs": [
    {
     "data": {
      "image/png": "[encoded data removed]",
      "text/plain": [
       "<Figure size 1000x600 with 1 Axes>"
      ]
     },
     "metadata": {},
     "output_type": "display_data"
    }
   ],
   "source": [
    "plt.figure(figsize=(10, 6))\n",
    "sns.histplot(data=df, x='age', hue='churn_risk_score', bins=20, kde=True, palette='Set2', multiple='stack')\n",
    "\n",
    "plt.title('Age Distribution by Churn Status')\n",
    "plt.xlabel('Age')\n",
    "plt.ylabel('Count')\n",
    "plt.legend(title='Churn', labels=['No', 'Yes'])\n",
    "plt.grid(True)\n",
    "plt.tight_layout()\n",
    "plt.show()"
   ]
  },
  {
   "cell_type": "markdown",
   "id": "2b28efb2-77dc-4203-9385-a1de85f5db11",
   "metadata": {
    "id": "2b28efb2-77dc-4203-9385-a1de85f5db11"
   },
   "source": [
    "The age distribution chart shows that customer churn is fairly uniform across all age groups, with no particular age range standing out as having significantly higher or lower churn rates. Both churned and non-churned customers are distributed evenly across the age spectrum, as indicated by the consistent height of the stacked bars and the overlapping KDE lines. This suggests that age is not a strong predictor of churn in this dataset, and other factors such as tenure, usage, or region may offermore meaningful insights into customer churn behavior."
   ]
  },
  {
   "cell_type": "markdown",
   "id": "ab33c51b-1ae8-4d33-980d-3bc75d6455a6",
   "metadata": {
    "id": "ab33c51b-1ae8-4d33-980d-3bc75d6455a6"
   },
   "source": [
    "#### Dropping unnecessary columns\n",
    "\n",
    "We decided to drop the security number and ID columns since they did not offer any useful insightinto our analysis"
   ]
  },
  {
   "cell_type": "code",
   "execution_count": 26,
   "id": "08a1f2db-4a56-4aab-8d45-a7a273d6ca3c",
   "metadata": {
    "colab": {
     "base_uri": "https://localhost:8080/"
    },
    "id": "08a1f2db-4a56-4aab-8d45-a7a273d6ca3c",
    "outputId": "1148f1b3-1b80-4344-db52-a4f1b26d188d"
   },
   "outputs": [
    {
     "name": "stdout",
     "output_type": "stream",
     "text": [
      "Index(['age', 'gender', 'region_category', 'membership_category',\n",
      "       'joining_date', 'joined_through_referral', 'referral_id',\n",
      "       'preferred_offer_types', 'medium_of_operation', 'internet_option',\n",
      "       'last_visit_time', 'days_since_last_login', 'avg_time_spent',\n",
      "       'avg_transaction_value', 'avg_frequency_login_days', 'points_in_wallet',\n",
      "       'used_special_discount', 'offer_application_preference',\n",
      "       'past_complaint', 'complaint_status', 'feedback', 'churn_risk_score'],\n",
      "      dtype='object')\n"
     ]
    }
   ],
   "source": [
    "df.drop(columns=['security_no'], inplace=True)\n",
    "print(df.columns)"
   ]
  },
  {
   "cell_type": "markdown",
   "id": "3230c757-5390-4951-a2b0-fae527a6dc66",
   "metadata": {
    "id": "3230c757-5390-4951-a2b0-fae527a6dc66"
   },
   "source": [
    "#### Removing null values\n",
    "\n",
    "Starting with preferred_offer_types column we shall proceed to remove the null values. Since the percentage of null values in this column is 0.77% which is almost negligible, we will drop all the null rows."
   ]
  },
  {
   "cell_type": "code",
   "execution_count": 28,
   "id": "5e130548-15a7-4610-b9c2-50f9ea328961",
   "metadata": {
    "id": "5e130548-15a7-4610-b9c2-50f9ea328961"
   },
   "outputs": [],
   "source": [
    "# Drop rows where 'preferred_offer_types' is null\n",
    "df_cleaned = df.dropna(subset=['preferred_offer_types'])"
   ]
  },
  {
   "cell_type": "code",
   "execution_count": 29,
   "id": "d82ac42f-28f9-4e43-b863-d547f72366f7",
   "metadata": {
    "colab": {
     "base_uri": "https://localhost:8080/"
    },
    "id": "d82ac42f-28f9-4e43-b863-d547f72366f7",
    "outputId": "149b581a-4a85-4322-e756-1d151ff2395d"
   },
   "outputs": [
    {
     "name": "stdout",
     "output_type": "stream",
     "text": [
      "The most frequent (mode) value in 'region_category' is: Town\n"
     ]
    }
   ],
   "source": [
    "# Find the most frequent value (mode) of 'region_category'\n",
    "mode_region = df_cleaned['region_category'].mode()[0]\n",
    "print(f\"The most frequent (mode) value in 'region_category' is: {mode_region}\")"
   ]
  },
  {
   "cell_type": "code",
   "execution_count": 30,
   "id": "59a10add-5588-4918-8e29-914fa33460f8",
   "metadata": {
    "colab": {
     "base_uri": "https://localhost:8080/"
    },
    "id": "59a10add-5588-4918-8e29-914fa33460f8",
    "outputId": "fd69d1c0-bb4f-44ca-adca-a47505a09e6f"
   },
   "outputs": [
    {
     "name": "stdout",
     "output_type": "stream",
     "text": [
      "Distribution of values in 'region_category':\n",
      "region_category\n",
      "Town       14025\n",
      "City       12635\n",
      "NaN         5379\n",
      "Village     4665\n",
      "Name: count, dtype: int64\n"
     ]
    }
   ],
   "source": [
    "# Get distribution of 'region_category'\n",
    "region_distribution = df_cleaned['region_category'].value_counts(dropna=False)\n",
    "\n",
    "# Display the result\n",
    "print(\"Distribution of values in 'region_category':\")\n",
    "print(region_distribution)"
   ]
  },
  {
   "cell_type": "code",
   "execution_count": 31,
   "id": "f9d29076-b0e8-44d3-a722-32c8296d0d24",
   "metadata": {
    "id": "f9d29076-b0e8-44d3-a722-32c8296d0d24"
   },
   "outputs": [],
   "source": [
    "# Drop rows where 'region_category' is null\n",
    "df_cleaned = df_cleaned.dropna(subset=['region_category'])"
   ]
  },
  {
   "cell_type": "code",
   "execution_count": 32,
   "id": "b82e6b7c-db14-4328-b95d-a86c9843884e",
   "metadata": {
    "colab": {
     "base_uri": "https://localhost:8080/"
    },
    "id": "b82e6b7c-db14-4328-b95d-a86c9843884e",
    "outputId": "61702b43-8733-4a2c-af43-ce9863d3f4f5"
   },
   "outputs": [
    {
     "name": "stdout",
     "output_type": "stream",
     "text": [
      "age                             0.000000\n",
      "gender                          0.000000\n",
      "region_category                 0.000000\n",
      "membership_category             0.000000\n",
      "joining_date                    0.000000\n",
      "joined_through_referral         0.000000\n",
      "referral_id                     0.000000\n",
      "preferred_offer_types           0.000000\n",
      "medium_of_operation             0.000000\n",
      "internet_option                 0.000000\n",
      "last_visit_time                 0.000000\n",
      "days_since_last_login           0.000000\n",
      "avg_time_spent                  0.000000\n",
      "avg_transaction_value           0.000000\n",
      "avg_frequency_login_days        0.000000\n",
      "points_in_wallet                9.423783\n",
      "used_special_discount           0.000000\n",
      "offer_application_preference    0.000000\n",
      "past_complaint                  0.000000\n",
      "complaint_status                0.000000\n",
      "feedback                        0.000000\n",
      "churn_risk_score                0.000000\n",
      "dtype: float64\n"
     ]
    }
   ],
   "source": [
    "# Display the result\n",
    "null_percentage_cleaned = (df_cleaned.isnull().sum() / len(df_cleaned)) * 100\n",
    "print(null_percentage_cleaned)"
   ]
  },
  {
   "cell_type": "code",
   "execution_count": 33,
   "id": "b9bf75a3-e8cb-4c00-b55c-4ac9605b88aa",
   "metadata": {
    "colab": {
     "base_uri": "https://localhost:8080/"
    },
    "id": "b9bf75a3-e8cb-4c00-b55c-4ac9605b88aa",
    "outputId": "e7520b0e-a22a-4a8a-e93a-3b8971685ddb"
   },
   "outputs": [
    {
     "name": "stdout",
     "output_type": "stream",
     "text": [
      "Distribution of values in 'points_in_wallet':\n",
      "points_in_wallet\n",
      "NaN            2952\n",
      "705.070000        9\n",
      "771.750000        7\n",
      "760.580000        6\n",
      "715.420000        6\n",
      "               ... \n",
      "1087.175701       1\n",
      "810.240000        1\n",
      "753.340000        1\n",
      "679.740000        1\n",
      "197.264414        1\n",
      "Name: count, Length: 20978, dtype: int64\n"
     ]
    }
   ],
   "source": [
    "# Get distribution of 'region_category'\n",
    "points_in_wallet_distribution = df_cleaned['points_in_wallet'].value_counts(dropna=False)\n",
    "\n",
    "# Display the result\n",
    "print(\"Distribution of values in 'points_in_wallet':\")\n",
    "print(points_in_wallet_distribution)"
   ]
  },
  {
   "cell_type": "code",
   "execution_count": 34,
   "id": "2a651890-605b-4e9e-8ee3-5533bfdd6a6d",
   "metadata": {
    "colab": {
     "base_uri": "https://localhost:8080/"
    },
    "id": "2a651890-605b-4e9e-8ee3-5533bfdd6a6d",
    "outputId": "eb5b2665-36d0-43ef-9392-f6c5fb7c70ca"
   },
   "outputs": [],
   "source": [
    "# Fill missing values\n",
    "df_cleaned['points_in_wallet'].fillna(df_cleaned['points_in_wallet'].median(), inplace=True)\n"
   ]
  },
  {
   "cell_type": "code",
   "execution_count": 35,
   "id": "ea87835c-6e8e-47b5-af6b-c74056dd43e2",
   "metadata": {
    "colab": {
     "base_uri": "https://localhost:8080/"
    },
    "id": "ea87835c-6e8e-47b5-af6b-c74056dd43e2",
    "outputId": "bddfd851-df15-4411-dbc1-22fb13abd801"
   },
   "outputs": [
    {
     "name": "stdout",
     "output_type": "stream",
     "text": [
      "age                             0.0\n",
      "gender                          0.0\n",
      "region_category                 0.0\n",
      "membership_category             0.0\n",
      "joining_date                    0.0\n",
      "joined_through_referral         0.0\n",
      "referral_id                     0.0\n",
      "preferred_offer_types           0.0\n",
      "medium_of_operation             0.0\n",
      "internet_option                 0.0\n",
      "last_visit_time                 0.0\n",
      "days_since_last_login           0.0\n",
      "avg_time_spent                  0.0\n",
      "avg_transaction_value           0.0\n",
      "avg_frequency_login_days        0.0\n",
      "points_in_wallet                0.0\n",
      "used_special_discount           0.0\n",
      "offer_application_preference    0.0\n",
      "past_complaint                  0.0\n",
      "complaint_status                0.0\n",
      "feedback                        0.0\n",
      "churn_risk_score                0.0\n",
      "dtype: float64\n"
     ]
    }
   ],
   "source": [
    "null_percentage_cleaned = (df_cleaned.isnull().sum() / len(df_cleaned)) * 100\n",
    "print(null_percentage_cleaned)"
   ]
  },
  {
   "cell_type": "code",
   "execution_count": 36,
   "id": "09dab6fc-acd0-49e2-aad8-6e6828a00a7e",
   "metadata": {
    "colab": {
     "base_uri": "https://localhost:8080/"
    },
    "id": "09dab6fc-acd0-49e2-aad8-6e6828a00a7e",
    "outputId": "c32f60c0-7e73-4c65-83a6-fd45f23af7de"
   },
   "outputs": [
    {
     "data": {
      "text/plain": [
       "(31325, 22)"
      ]
     },
     "execution_count": 36,
     "metadata": {},
     "output_type": "execute_result"
    }
   ],
   "source": [
    "df_cleaned.shape"
   ]
  },
  {
   "cell_type": "code",
   "execution_count": 37,
   "id": "091bc378-d24e-4040-80db-e93aa1b8db97",
   "metadata": {
    "colab": {
     "base_uri": "https://localhost:8080/",
     "height": 377
    },
    "id": "091bc378-d24e-4040-80db-e93aa1b8db97",
    "outputId": "69644faf-4548-4465-8317-f84c1ed34c38"
   },
   "outputs": [
    {
     "data": {
      "text/html": [
       "<div>\n",
       "<style scoped>\n",
       "    .dataframe tbody tr th:only-of-type {\n",
       "        vertical-align: middle;\n",
       "    }\n",
       "\n",
       "    .dataframe tbody tr th {\n",
       "        vertical-align: top;\n",
       "    }\n",
       "\n",
       "    .dataframe thead th {\n",
       "        text-align: right;\n",
       "    }\n",
       "</style>\n",
       "<table border=\"1\" class=\"dataframe\">\n",
       "  <thead>\n",
       "    <tr style=\"text-align: right;\">\n",
       "      <th></th>\n",
       "      <th>age</th>\n",
       "      <th>gender</th>\n",
       "      <th>region_category</th>\n",
       "      <th>membership_category</th>\n",
       "      <th>joining_date</th>\n",
       "      <th>joined_through_referral</th>\n",
       "      <th>referral_id</th>\n",
       "      <th>preferred_offer_types</th>\n",
       "      <th>medium_of_operation</th>\n",
       "      <th>internet_option</th>\n",
       "      <th>...</th>\n",
       "      <th>avg_time_spent</th>\n",
       "      <th>avg_transaction_value</th>\n",
       "      <th>avg_frequency_login_days</th>\n",
       "      <th>points_in_wallet</th>\n",
       "      <th>used_special_discount</th>\n",
       "      <th>offer_application_preference</th>\n",
       "      <th>past_complaint</th>\n",
       "      <th>complaint_status</th>\n",
       "      <th>feedback</th>\n",
       "      <th>churn_risk_score</th>\n",
       "    </tr>\n",
       "  </thead>\n",
       "  <tbody>\n",
       "    <tr>\n",
       "      <th>0</th>\n",
       "      <td>18</td>\n",
       "      <td>F</td>\n",
       "      <td>Village</td>\n",
       "      <td>Platinum Membership</td>\n",
       "      <td>17-08-2017</td>\n",
       "      <td>No</td>\n",
       "      <td>xxxxxxxx</td>\n",
       "      <td>Gift Vouchers/Coupons</td>\n",
       "      <td>?</td>\n",
       "      <td>Wi-Fi</td>\n",
       "      <td>...</td>\n",
       "      <td>300.63</td>\n",
       "      <td>53005.25</td>\n",
       "      <td>17</td>\n",
       "      <td>781.75</td>\n",
       "      <td>Yes</td>\n",
       "      <td>Yes</td>\n",
       "      <td>No</td>\n",
       "      <td>Not Applicable</td>\n",
       "      <td>Products always in Stock</td>\n",
       "      <td>0</td>\n",
       "    </tr>\n",
       "    <tr>\n",
       "      <th>1</th>\n",
       "      <td>32</td>\n",
       "      <td>F</td>\n",
       "      <td>City</td>\n",
       "      <td>Premium Membership</td>\n",
       "      <td>28-08-2017</td>\n",
       "      <td>?</td>\n",
       "      <td>CID21329</td>\n",
       "      <td>Gift Vouchers/Coupons</td>\n",
       "      <td>Desktop</td>\n",
       "      <td>Mobile_Data</td>\n",
       "      <td>...</td>\n",
       "      <td>306.34</td>\n",
       "      <td>12838.38</td>\n",
       "      <td>10</td>\n",
       "      <td>698.48</td>\n",
       "      <td>Yes</td>\n",
       "      <td>No</td>\n",
       "      <td>Yes</td>\n",
       "      <td>Solved</td>\n",
       "      <td>Quality Customer Care</td>\n",
       "      <td>0</td>\n",
       "    </tr>\n",
       "    <tr>\n",
       "      <th>2</th>\n",
       "      <td>44</td>\n",
       "      <td>F</td>\n",
       "      <td>Town</td>\n",
       "      <td>No Membership</td>\n",
       "      <td>11/11/2016</td>\n",
       "      <td>Yes</td>\n",
       "      <td>CID12313</td>\n",
       "      <td>Gift Vouchers/Coupons</td>\n",
       "      <td>Desktop</td>\n",
       "      <td>Wi-Fi</td>\n",
       "      <td>...</td>\n",
       "      <td>516.16</td>\n",
       "      <td>21027.00</td>\n",
       "      <td>22</td>\n",
       "      <td>500.69</td>\n",
       "      <td>No</td>\n",
       "      <td>Yes</td>\n",
       "      <td>Yes</td>\n",
       "      <td>Solved in Follow-up</td>\n",
       "      <td>Poor Website</td>\n",
       "      <td>1</td>\n",
       "    </tr>\n",
       "    <tr>\n",
       "      <th>3</th>\n",
       "      <td>37</td>\n",
       "      <td>M</td>\n",
       "      <td>City</td>\n",
       "      <td>No Membership</td>\n",
       "      <td>29-10-2016</td>\n",
       "      <td>Yes</td>\n",
       "      <td>CID3793</td>\n",
       "      <td>Gift Vouchers/Coupons</td>\n",
       "      <td>Desktop</td>\n",
       "      <td>Mobile_Data</td>\n",
       "      <td>...</td>\n",
       "      <td>53.27</td>\n",
       "      <td>25239.56</td>\n",
       "      <td>6</td>\n",
       "      <td>567.66</td>\n",
       "      <td>No</td>\n",
       "      <td>Yes</td>\n",
       "      <td>Yes</td>\n",
       "      <td>Unsolved</td>\n",
       "      <td>Poor Website</td>\n",
       "      <td>1</td>\n",
       "    </tr>\n",
       "    <tr>\n",
       "      <th>4</th>\n",
       "      <td>31</td>\n",
       "      <td>F</td>\n",
       "      <td>City</td>\n",
       "      <td>No Membership</td>\n",
       "      <td>12/9/2017</td>\n",
       "      <td>No</td>\n",
       "      <td>xxxxxxxx</td>\n",
       "      <td>Credit/Debit Card Offers</td>\n",
       "      <td>Smartphone</td>\n",
       "      <td>Mobile_Data</td>\n",
       "      <td>...</td>\n",
       "      <td>113.13</td>\n",
       "      <td>24483.66</td>\n",
       "      <td>16</td>\n",
       "      <td>663.06</td>\n",
       "      <td>No</td>\n",
       "      <td>Yes</td>\n",
       "      <td>Yes</td>\n",
       "      <td>Solved</td>\n",
       "      <td>Poor Website</td>\n",
       "      <td>1</td>\n",
       "    </tr>\n",
       "  </tbody>\n",
       "</table>\n",
       "<p>5 rows × 22 columns</p>\n",
       "</div>"
      ],
      "text/plain": [
       "   age gender region_category  membership_category joining_date  \\\n",
       "0   18      F         Village  Platinum Membership   17-08-2017   \n",
       "1   32      F            City   Premium Membership   28-08-2017   \n",
       "2   44      F            Town        No Membership   11/11/2016   \n",
       "3   37      M            City        No Membership   29-10-2016   \n",
       "4   31      F            City        No Membership    12/9/2017   \n",
       "\n",
       "  joined_through_referral referral_id     preferred_offer_types  \\\n",
       "0                      No    xxxxxxxx     Gift Vouchers/Coupons   \n",
       "1                       ?    CID21329     Gift Vouchers/Coupons   \n",
       "2                     Yes    CID12313     Gift Vouchers/Coupons   \n",
       "3                     Yes     CID3793     Gift Vouchers/Coupons   \n",
       "4                      No    xxxxxxxx  Credit/Debit Card Offers   \n",
       "\n",
       "  medium_of_operation internet_option  ... avg_time_spent  \\\n",
       "0                   ?           Wi-Fi  ...         300.63   \n",
       "1             Desktop     Mobile_Data  ...         306.34   \n",
       "2             Desktop           Wi-Fi  ...         516.16   \n",
       "3             Desktop     Mobile_Data  ...          53.27   \n",
       "4          Smartphone     Mobile_Data  ...         113.13   \n",
       "\n",
       "   avg_transaction_value  avg_frequency_login_days  points_in_wallet  \\\n",
       "0               53005.25                        17            781.75   \n",
       "1               12838.38                        10            698.48   \n",
       "2               21027.00                        22            500.69   \n",
       "3               25239.56                         6            567.66   \n",
       "4               24483.66                        16            663.06   \n",
       "\n",
       "  used_special_discount  offer_application_preference past_complaint  \\\n",
       "0                   Yes                           Yes             No   \n",
       "1                   Yes                            No            Yes   \n",
       "2                    No                           Yes            Yes   \n",
       "3                    No                           Yes            Yes   \n",
       "4                    No                           Yes            Yes   \n",
       "\n",
       "      complaint_status                  feedback churn_risk_score  \n",
       "0       Not Applicable  Products always in Stock                0  \n",
       "1               Solved     Quality Customer Care                0  \n",
       "2  Solved in Follow-up              Poor Website                1  \n",
       "3             Unsolved              Poor Website                1  \n",
       "4               Solved              Poor Website                1  \n",
       "\n",
       "[5 rows x 22 columns]"
      ]
     },
     "execution_count": 37,
     "metadata": {},
     "output_type": "execute_result"
    }
   ],
   "source": [
    "df_cleaned.head()"
   ]
  },
  {
   "cell_type": "markdown",
   "id": "zgI6D86ZdY1N",
   "metadata": {
    "id": "zgI6D86ZdY1N"
   },
   "source": [
    "We've observed that the dataset contains many hidden missing values represented by placeholder terms. To accurately identify and address them, we plan to carefully inspect each column individually."
   ]
  },
  {
   "cell_type": "code",
   "execution_count": 39,
   "id": "_B3Zey73cnA7",
   "metadata": {
    "colab": {
     "base_uri": "https://localhost:8080/",
     "height": 304
    },
    "id": "_B3Zey73cnA7",
    "outputId": "38f4cd68-8756-4e43-b986-3474aaf9f22a"
   },
   "outputs": [
    {
     "data": {
      "text/plain": [
       "membership_category\n",
       "Basic Membership       6516\n",
       "No Membership          6493\n",
       "Gold Membership        5743\n",
       "Silver Membership      5107\n",
       "Premium Membership     3779\n",
       "Platinum Membership    3687\n",
       "Name: count, dtype: int64"
      ]
     },
     "execution_count": 39,
     "metadata": {},
     "output_type": "execute_result"
    }
   ],
   "source": [
    "# Inspecting the membership_categoty column\n",
    "df_cleaned['membership_category'].value_counts()"
   ]
  },
  {
   "cell_type": "markdown",
   "id": "Jzy-oGLTdmcZ",
   "metadata": {
    "id": "Jzy-oGLTdmcZ"
   },
   "source": [
    "For this column, the values appear valid and present; there are no hidden missing values detected.\n",
    "\n"
   ]
  },
  {
   "cell_type": "code",
   "execution_count": 41,
   "id": "oE_mU6xzcm8w",
   "metadata": {
    "id": "oE_mU6xzcm8w"
   },
   "outputs": [],
   "source": [
    "# Inspecting the joining_date column. For this, we shall start by converting the column to datetime fomart.\n",
    "\n",
    "df_cleaned['joining_date'] = pd.to_datetime(df_cleaned['joining_date'], errors = 'coerce')"
   ]
  },
  {
   "cell_type": "markdown",
   "id": "-gvEsbZMlO-o",
   "metadata": {
    "id": "-gvEsbZMlO-o"
   },
   "source": [
    "To facilitate the analysis of seasonal and monthly churning patterns, we will extract the month and year from this column into separate fields.\n"
   ]
  },
  {
   "cell_type": "code",
   "execution_count": 43,
   "id": "OKXoCDZVcm6B",
   "metadata": {
    "id": "OKXoCDZVcm6B"
   },
   "outputs": [],
   "source": [
    "# Feature engineering a column for month and year\n",
    "df_cleaned['joining_year'] = df_cleaned['joining_date'].dt.year\n",
    "df_cleaned['joining_month'] = df_cleaned['joining_date'].dt.month"
   ]
  },
  {
   "cell_type": "code",
   "execution_count": 44,
   "id": "rX1HiYt-cm0Q",
   "metadata": {
    "colab": {
     "base_uri": "https://localhost:8080/",
     "height": 210
    },
    "id": "rX1HiYt-cm0Q",
    "outputId": "27f94cb1-26c5-4232-a9d8-b2f49d8a5666"
   },
   "outputs": [
    {
     "data": {
      "text/plain": [
       "joined_through_referral\n",
       "No     13455\n",
       "Yes    13266\n",
       "?       4604\n",
       "Name: count, dtype: int64"
      ]
     },
     "execution_count": 44,
     "metadata": {},
     "output_type": "execute_result"
    }
   ],
   "source": [
    "# Inspecting the joined through referral column\n",
    "df_cleaned['joined_through_referral'].value_counts()"
   ]
  },
  {
   "cell_type": "markdown",
   "id": "_2Njt_PwnlXu",
   "metadata": {
    "id": "_2Njt_PwnlXu"
   },
   "source": [
    "We have identified several entries where the value is missing and represented as '?'. Since this is a boolean field, it is difficult to confidently classify these as either 'Yes' or 'No'. Therefore, we will replace these unknown values with 'Not_recorded' to maintain clarity without making inaccurate assumptions or losing data in dropping them."
   ]
  },
  {
   "cell_type": "code",
   "execution_count": 46,
   "id": "uZ-eXEUBcmxk",
   "metadata": {
    "id": "uZ-eXEUBcmxk"
   },
   "outputs": [],
   "source": [
    "# Replacing '?' with 'Not_recorded'\n",
    "df_cleaned['joined_through_referral'] = df_cleaned['joined_through_referral'].replace('?','Not_recorded')"
   ]
  },
  {
   "cell_type": "code",
   "execution_count": 76,
   "id": "14ac7349-46d0-4fa1-9b2b-e932ed6bfed3",
   "metadata": {},
   "outputs": [
    {
     "data": {
      "text/plain": [
       "age\n",
       "33    614\n",
       "55    605\n",
       "61    603\n",
       "47    598\n",
       "16    597\n",
       "57    597\n",
       "38    596\n",
       "42    591\n",
       "23    586\n",
       "34    586\n",
       "30    585\n",
       "60    585\n",
       "59    584\n",
       "56    584\n",
       "46    584\n",
       "58    581\n",
       "26    581\n",
       "17    581\n",
       "45    578\n",
       "22    578\n",
       "48    578\n",
       "53    577\n",
       "21    577\n",
       "64    576\n",
       "32    576\n",
       "41    575\n",
       "49    573\n",
       "14    572\n",
       "28    572\n",
       "44    568\n",
       "29    567\n",
       "62    567\n",
       "20    564\n",
       "13    563\n",
       "52    563\n",
       "10    563\n",
       "19    562\n",
       "36    560\n",
       "11    559\n",
       "12    559\n",
       "37    555\n",
       "51    554\n",
       "43    553\n",
       "27    550\n",
       "35    548\n",
       "15    548\n",
       "39    547\n",
       "50    546\n",
       "18    544\n",
       "24    544\n",
       "63    544\n",
       "31    541\n",
       "25    533\n",
       "40    530\n",
       "54    523\n",
       "Name: count, dtype: int64"
      ]
     },
     "execution_count": 76,
     "metadata": {},
     "output_type": "execute_result"
    }
   ],
   "source": [
    "# Inspecting the age column\n",
    "df_cleaned['age'].value_counts()"
   ]
  },
  {
   "cell_type": "markdown",
   "id": "d8520b95-e646-4b32-8000-b7ce452b26c0",
   "metadata": {},
   "source": [
    "The column age seems not have any data that is misclassified therefore we will move onto the gender column"
   ]
  },
  {
   "cell_type": "code",
   "execution_count": 80,
   "id": "ac5190f3-c87f-4aa2-8706-b0a073966403",
   "metadata": {},
   "outputs": [
    {
     "data": {
      "text/plain": [
       "gender\n",
       "F          15658\n",
       "M          15617\n",
       "Unknown       50\n",
       "Name: count, dtype: int64"
      ]
     },
     "execution_count": 80,
     "metadata": {},
     "output_type": "execute_result"
    }
   ],
   "source": [
    "# Inspecting the gender column\n",
    "df_cleaned['gender'].value_counts()"
   ]
  },
  {
   "cell_type": "markdown",
   "id": "ee72212c-ed58-4da9-a796-8cb02ceb4ade",
   "metadata": {},
   "source": [
    "The number of rows with gender = 'Unknown' is negligible (~0.16%) and may introduce noise or ambiguity in gender-based analysis or modeling. Dropping them helps ensure clean, interpretable categorical data without significantly affecting the dataset's size or balance."
   ]
  },
  {
   "cell_type": "code",
   "execution_count": 84,
   "id": "19719b8a-e81e-4dcc-bf56-76bd9dfaced8",
   "metadata": {},
   "outputs": [],
   "source": [
    "# Drop rows where gender is 'Unknown' in place\n",
    "df_cleaned = df_cleaned[df_cleaned['gender'] != 'Unknown']"
   ]
  },
  {
   "cell_type": "code",
   "execution_count": 86,
   "id": "b442db60-2925-47bf-9cb5-d2d93e9bc2a3",
   "metadata": {},
   "outputs": [
    {
     "data": {
      "text/plain": [
       "region_category\n",
       "Town       13996\n",
       "City       12620\n",
       "Village     4659\n",
       "Name: count, dtype: int64"
      ]
     },
     "execution_count": 86,
     "metadata": {},
     "output_type": "execute_result"
    }
   ],
   "source": [
    "# Inspecting the region_category column\n",
    "df_cleaned['region_category'].value_counts()"
   ]
  },
  {
   "cell_type": "markdown",
   "id": "3c34915b-8884-41d7-8f89-50f58fd181b0",
   "metadata": {},
   "source": [
    "The region category column seems not have misclassified data from value counts method above"
   ]
  }
 ],
 "metadata": {
  "colab": {
   "provenance": []
  },
  "kernelspec": {
   "display_name": "Python [conda env:base] *",
   "language": "python",
   "name": "conda-base-py"
  },
  "language_info": {
   "codemirror_mode": {
    "name": "ipython",
    "version": 3
   },
   "file_extension": ".py",
   "mimetype": "text/x-python",
   "name": "python",
   "nbconvert_exporter": "python",
   "pygments_lexer": "ipython3",
   "version": "3.12.7"
  }
 },
 "nbformat": 4,
 "nbformat_minor": 5
}
